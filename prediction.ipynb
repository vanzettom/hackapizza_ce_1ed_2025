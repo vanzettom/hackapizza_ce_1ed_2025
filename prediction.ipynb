{
 "cells": [
  {
   "cell_type": "code",
   "execution_count": null,
   "id": "8d80ee8e-e606-4262-8e0d-f6c1efeef34d",
   "metadata": {
    "tags": []
   },
   "outputs": [],
   "source": [
    "import json\n",
    "\n",
    "import openai\n",
    "import numpy as np\n",
    "import pandas as pd\n",
    "from pydantic import BaseModel"
   ]
  },
  {
   "cell_type": "code",
   "execution_count": null,
   "id": "2b93921d-8a48-4581-9447-d3439b5edeb5",
   "metadata": {
    "tags": []
   },
   "outputs": [],
   "source": [
    "with open(\"/Users/vanzettom/Documents/mattia/personale/hackapizza/openai_api_mattiavanzetto.txt\", encoding='utf-8') as file:\n",
    "    api_key = file.read()"
   ]
  },
  {
   "cell_type": "code",
   "execution_count": null,
   "id": "c8c7169b-874e-4608-a045-485272dca936",
   "metadata": {
    "tags": []
   },
   "outputs": [],
   "source": [
    "with open(\"/Users/vanzettom/Documents/mattia/personale/hackapizza/data_preprocessed/plate_info_dictionary.json\") as f:\n",
    "    plate_info_dictionary = json.load(f)"
   ]
  },
  {
   "cell_type": "code",
   "execution_count": null,
   "id": "930ba0f4-3b8c-472b-b0a4-01c1d9915ac1",
   "metadata": {
    "scrolled": true,
    "tags": []
   },
   "outputs": [],
   "source": [
    "plate_info_dictionary['Quadrifonia Cosmica: Sinfonia di Sapori e Dimensioni']"
   ]
  },
  {
   "cell_type": "code",
   "execution_count": null,
   "id": "6b314d5c-71d8-44a6-b2b0-97d3e866a5ab",
   "metadata": {
    "tags": []
   },
   "outputs": [],
   "source": [
    "questions = pd.read_csv('/Users/vanzettom/Documents/mattia/personale/hackapizza/Hackapizza Dataset/domande.csv')\n",
    "questions.shape"
   ]
  },
  {
   "cell_type": "code",
   "execution_count": null,
   "id": "1f06c6b2-05be-4072-927f-4af9cff1e495",
   "metadata": {
    "tags": []
   },
   "outputs": [],
   "source": [
    "with open('/Users/vanzettom/Documents/mattia/personale/hackapizza/Hackapizza Dataset/Misc/dish_mapping.json') as f:\n",
    "    dish_mapping = json.load(f)"
   ]
  },
  {
   "cell_type": "code",
   "execution_count": null,
   "id": "ab8069cb-88a0-4c5b-8da6-a4f3171b5dbd",
   "metadata": {
    "scrolled": true,
    "tags": []
   },
   "outputs": [],
   "source": [
    "[p for p in list(plate_info_dictionary.keys()) if p not in [d for d in dish_mapping]]"
   ]
  },
  {
   "cell_type": "code",
   "execution_count": null,
   "id": "d38238fa-a543-478a-9171-1d6ac79da438",
   "metadata": {
    "tags": []
   },
   "outputs": [],
   "source": [
    "with open(\"/Users/vanzettom/Documents/mattia/personale/hackapizza/data_preprocessed/license_list.json\") as f:\n",
    "    license_list = json.load(f) "
   ]
  },
  {
   "cell_type": "code",
   "execution_count": null,
   "id": "6b725c8a-9abd-462b-9cb7-35b9600180b9",
   "metadata": {
    "tags": []
   },
   "outputs": [],
   "source": [
    "license_list_short = \"\"\"\n",
    "- \"Licenza Psionica (P)\"\n",
    "- \"Licenza Temporale (t)\"\n",
    "- \"Licenza Gravitazionale (G)\"\n",
    "- \"Licenza Antimateria (e+)\"\n",
    "- \"Licenza Magnetica (Mx)\"\n",
    "- \"Licenza Quantistica (Q)\"\n",
    "- \"Licenza Luce (c)\"\n",
    "- \"Livello di Sviluppo Tecnologico (LTK)\"\n",
    "\"\"\""
   ]
  },
  {
   "cell_type": "code",
   "execution_count": null,
   "id": "40fe2c37-a26a-40ab-a43b-f2be964fbddd",
   "metadata": {
    "tags": []
   },
   "outputs": [],
   "source": [
    "print(license_list_short)"
   ]
  },
  {
   "cell_type": "code",
   "execution_count": null,
   "id": "660b90d3-fb34-44b7-a020-ed602481f4af",
   "metadata": {
    "tags": []
   },
   "outputs": [],
   "source": [
    "import itertools\n",
    "\n",
    "total_ingredient_set = set(itertools.chain(*[d['ingredienti'] for d in plate_info_dictionary.values()]))\n",
    "len(total_ingredient_set)"
   ]
  },
  {
   "cell_type": "code",
   "execution_count": null,
   "id": "5f7320d3-8ab4-4682-8919-6417e821abf2",
   "metadata": {
    "scrolled": true,
    "tags": []
   },
   "outputs": [],
   "source": [
    "total_ingredient_set"
   ]
  },
  {
   "cell_type": "markdown",
   "id": "32c94c20-be38-4a61-906f-65774abc0179",
   "metadata": {},
   "source": [
    "### Riformulazione domande"
   ]
  },
  {
   "cell_type": "code",
   "execution_count": null,
   "id": "19604900-b60b-4b9a-b716-e03724544bf8",
   "metadata": {
    "scrolled": true,
    "tags": []
   },
   "outputs": [],
   "source": [
    "%%time\n",
    "\n",
    "client = openai.OpenAI(\n",
    "  api_key=api_key\n",
    ")\n",
    "\n",
    "model = \"gpt-4o\"\n",
    "\n",
    "new_questions = dict()\n",
    "\n",
    "for i, query in enumerate(questions['domanda'], start=1):\n",
    "    \n",
    "    print(f\"{i} ---- original question:\\n\\n{query}\")\n",
    "    \n",
    "    output = client.beta.chat.completions.parse(\n",
    "    model=model,\n",
    "    store=True,\n",
    "    messages=[\n",
    "        {\n",
    "            \"role\": \"system\",\n",
    "            \"content\": \"\"\"\n",
    "Sei un esperto culinario che aiuta a riformulare domande poste da utenti in modo che siano più chiare per poi essere gestite da un sistema AI.\n",
    "In particolare ogni domanda chiede quali piatti di cucina, tratti da dei menù diversi, soddisfano certe condizioni.\n",
    "I piatti non sono realistici ma sono inventati in un contento fantascientifico spaziale, quindi sia gli ingredienti che le tecniche utilizzate per preparare i piatti sono inventati.\n",
    "Il tuo compito a ogni domanda devi estrarre i requisiti che i piatti devono avere.\n",
    "\"\"\"\n",
    "        },\n",
    "        {\n",
    "            \"role\": \"user\",\n",
    "            \"content\": f\"\"\"\n",
    "            \n",
    "### INDICAZIONI:           \n",
    "La domanda che ti mostrerò chiede quali piatti di un menu rispettano certe condizioni.\n",
    "Voglio che la riformuli riferendola al singolare, quindi riferendola specificatamente ad un piatto, chiedendo se un piatto specifico rispetta le condizioni racchiuse nella domanda originale.\n",
    "Voglio che scomponi la domanda originale in un elenco puntato di requisiti che il piatto deve soddisfare.\n",
    "Voglio che elimini aggettivi superflui e che non rappresentano requisiti del piatto.\n",
    "La domanda potrebbe contenere riferimenti a licenze che lo chef deve possedere riportando le licenze in forma abbreviata. Voglio che nel riformulare la domanda sostituisci le abbreviazioni con le licenze riportandole per esteso.\n",
    "Di seguito ti riporto la lista di licenze completa che potresti trovare nella domanda (ad ogni licenza posseduta dallo chef è associato un livello). Inoltre ti riporto anche una lista non esaustiva contenente esempi di ingredienti che possono contenere i piatti. Infine ti mostrerò anche alcuni esempi pratici.\n",
    "\n",
    "### ALTRE INFO UTILI:\n",
    "- Sirius Cosmo è una persona che ha scritto un famoso manuale di cucina, che prende il nome dall’autore.\n",
    "- I piatti sono inventati ed anche le tecniche e ingredienti che li compongono. Ci troviamo in un'ambientazione fantascientifica.\n",
    "\n",
    "### LISTA LICENZE POSSIBILI:\n",
    "{license_list_short}\n",
    "\n",
    "### ESEMPI DI INGREDIENTI:\n",
    "{', '.join(total_ingredient_set)}\n",
    "\n",
    "### DOMANDA ESEMPIO 1:\n",
    "\"Quali piatti sono accompagnati dai misteriosi Frutti del Diavolo, che donano poteri speciali a chi li consuma?\"\n",
    "\n",
    "### SOLUZIONE ESEMPIO 1:\n",
    "\"Questo piatto soddisfa i seguenti requisti?:\n",
    "-contiene tra gli ingredienti i 'frutti del diavolo'\".\n",
    "\n",
    "### DOMANDA ESEMPIO 2:\n",
    "\"Quali piatti usano la Sferificazione Filamentare a Molecole Vibrazionali, ma evitano la Decostruzione Magnetica Risonante?\"\n",
    "\n",
    "### SOLUZIONE ESEMPIO 2:\n",
    "\"Questo piatto soddisfa i seguenti requisti?:\n",
    "-nella sua preparazione è necessaria la tecnica 'Sferificazione Filamentare a Molecole Vibrazionali'.\n",
    "-nella sua preparazione è necessaria la tecnica 'Decostruzione Magnetica Risonante'\".\n",
    "\n",
    "### DOMANDA ESEMPIO 3:\n",
    "\"Quali piatti sono stati creati utilizzando almeno una tecnica di surgelamento secondo il di Sirius Cosmo e sono stati serviti in un ristorante situato entro un raggio di 317 anni luce dal pianeta Krypton, Krypton incluso?\"\n",
    "\n",
    "### SOLUZIONE ESEMPIO 3:\n",
    "\"Questo piatto soddisfa i seguenti requisti?:\n",
    "-nella sua preparazione è necessaria almeno una tecnica di impasto del manuale di Sirius Cosmo.\n",
    "-il ristorante in cui viene preparato dista massimo 317 anni luce da Krypton, oppure è situato su Krypton.\"\n",
    "\n",
    "### DOMANDA ESEMPIO 4:\n",
    "\"Che piatti posso mangiare che contengano i Fusilli del Vento ma che abbia nella sua preparazione la Marinatura a Infusione Gravitazionale correttamente operata da un chef che ha le corrette licenze e certificazioni descritte dal Codice di Galattico?\"\n",
    "\n",
    "### SOLUZIONE ESEMPIO 4:\n",
    "\"Questo piatto soddisfa i seguenti requisti?:\n",
    "-contiene tra gli ingredienti i 'fusilli del vento'\n",
    "-nella sua preparazione è necessaria la tecnica 'Marinatura a Infusione Gravitazionale'.\n",
    "-lo chef che prepara questo piatto possiede le corrette licenze per prepararlo, quindi è 'ok' con le licenze necessarie.\n",
    "\"\n",
    "\n",
    "### DOMANDA ESEMPIO 5:\n",
    "\"Quali piatti creati con almeno una tecnica di taglio dal Manuale di Cucina di Sirius Cosmo e che necessitano della licenza t non base per la preparazione, escludendo quelli con Fusilli del Vento, sono serviti?\"\n",
    "\n",
    "### SOLUZIONE ESEMPIO 5:\n",
    "\"Questo piatto soddisfa i seguenti requisti?:\n",
    "-nella sua preparazione è necessaria almeno una tecnica di taglio tratta dal manuale di Sirius Cosmo.\n",
    "-nella sua preparazione è necessaria la \"Licenza Temporale (t)\" di livello superiore a 1.\n",
    "-non contiene tra gli ingredienti i 'fusilli del vento'.\n",
    "\"\n",
    "\n",
    " ———-———-———-———-\n",
    "\n",
    "Restituisci solo la seguente domanda riformulata, senza altri commenti da parte tua.\n",
    "\n",
    "### DOMANDA:\n",
    "{query}\n",
    "\n",
    "### SOLUZIONE:\n",
    "\n",
    "\"\"\"\n",
    "        }\n",
    "    ],\n",
    "    )\n",
    "    q = output.choices[0].message.content\n",
    "    print(f\"\\n---- new question:\\n\\n{q}\\n\\n\")\n",
    "    new_questions[i] = q"
   ]
  },
  {
   "cell_type": "code",
   "execution_count": null,
   "id": "e912591e-ed02-4c47-a58b-7d32b37fa8c7",
   "metadata": {},
   "outputs": [],
   "source": [
    "with open(\"/Users/vanzettom/Documents/mattia/personale/hackapizza/data_preprocessed/new_questions.json\", \"w\", encoding=\"utf-8\") as f:\n",
    "    json.dump(new_questions, f, ensure_ascii=False, indent=4)"
   ]
  },
  {
   "cell_type": "code",
   "execution_count": null,
   "id": "f07e20cf-3a01-4d35-b825-e3b43e72d598",
   "metadata": {
    "tags": []
   },
   "outputs": [],
   "source": [
    "len(new_questions)"
   ]
  },
  {
   "cell_type": "code",
   "execution_count": null,
   "id": "0eba29b0-a820-41f9-8b50-ae05a1ad9522",
   "metadata": {
    "scrolled": true,
    "tags": []
   },
   "outputs": [],
   "source": [
    "new_questions"
   ]
  },
  {
   "cell_type": "markdown",
   "id": "e120a461-a979-4582-8efa-f59007069a46",
   "metadata": {},
   "source": [
    "### Validazione piatti"
   ]
  },
  {
   "cell_type": "code",
   "execution_count": null,
   "id": "32ba661d-1a63-470b-93c3-e71eab6f84cb",
   "metadata": {
    "tags": []
   },
   "outputs": [],
   "source": [
    "example_dict = plate_info_dictionary['Quadrifonia Cosmica: Sinfonia di Sapori e Dimensioni']"
   ]
  },
  {
   "cell_type": "code",
   "execution_count": null,
   "id": "1b0a64e4-f62a-4743-bda6-2dfdc90231dc",
   "metadata": {
    "scrolled": true,
    "tags": []
   },
   "outputs": [],
   "source": [
    "%%time\n",
    "\n",
    "client = openai.OpenAI(\n",
    "  api_key=api_key\n",
    ")\n",
    "\n",
    "model = \"gpt-4o\", #\"o3-mini\"\n",
    "\n",
    "responses = dict()\n",
    "functions = dict()\n",
    "\n",
    "for i, query in new_questions.items():\n",
    "    \n",
    "    responses[i] = list()\n",
    "    print(f\"{i} - {query}\")\n",
    "    \n",
    "    output = client.beta.chat.completions.parse(\n",
    "    model=model,\n",
    "    store=True,\n",
    "    messages=[\n",
    "        {\n",
    "            \"role\": \"system\",\n",
    "            \"content\": \"\"\"\n",
    "Sei un programmatore python esperto che sta aiutando a capire informaticamente se uno specifico piatto soddisfa o meno una richiesta di un cliente.\n",
    "Le informazioni sul piatto ti saranno fornite sotto forma di dizionario python.\n",
    "Ti trovi in una ambientazione fantascientifica nello spazio, in diversi sistemi solari.\n",
    "Il tuo risultato deve essere la definizione di una funzione python che prende in input un dizionario contenente i dati di un piatto e restituisce soltanto True o False.\n",
    "Non devono essere presenti altri commenti poiché il tuo risultato dovrà essere passato ad un exec per poi utilizzare la funzione.\n",
    "\"\"\"\n",
    "        },\n",
    "        {\n",
    "            \"role\": \"user\",\n",
    "            \"content\": f\"\"\"\n",
    "### INDICAZIONI GENERALI: \n",
    "- Qui sotto ti fornirò un esempio di dizionario contenente i dati di un piatto di un ristorante che dovrai valutare per capire se soddisfa o meno i requisiti di una specifica domanda di un utente.\n",
    "- Voglio da te che produci una funzione python che prende in input soltanto il dizionario e restituisce True o False in base a se il piatto soddisfa o meno la domanda dell'utente.\n",
    "- Le informazioni relativamente alla domanda (che ti fornirò qui sotto) devono essere completamente hardcodate all'interno della funzione, poiché la funzione deve prendere in input solo il dizionario.\n",
    "\n",
    "### INDICAZIONI PER PRODURRE LA FUNZIONE PYTHON:\n",
    "- Considera che alcune parole della domanda potrebbero contenere typo e che le rispettive chiavi o valori che ti servono nel dizionario potrebbero anch'esse contenere typo. Per questo devi usare la distanza di Levenshtein dove lo ritieni più opportuno nella tua funzione (impostando distanza massima di 3). \n",
    "- Usa sempre il .lower() quando cerchi di verificare alcune condizioni.\n",
    "- Eventuali import di librerie inseriscili direttamente dentro la funzione.\n",
    "\n",
    "### INFORMAZIONI SUI DATI CHE AVRAI A DISPOSIZIONE:\n",
    "- La lista di ingredienti necessari per i piatti la trovi nella chiave 'ingredienti', il nome del pianeta in [\"dati_ristorante\"][\"pianeta\"] e così via...\n",
    "- Le distanze tra pianeti sono espresse in anni luce.\n",
    "- Ogni dizionario contiene le licenze possedute dallo chef del ristorante in cui viene cucinato il piatto.\n",
    "- Ogni licenza è associata ad un livello. \n",
    "- Ogni piatto richiede delle tecniche particolari per essere preparato, la lista di tecniche necessarie la trovi nella chiave 'tecniche_utilizzate'.\n",
    "- Ogni piatto richiede che lo chef possegga certe licenze, di un certo licello, per essere prepararato, la lista di licenze necessarie la trovi nella chiave 'licenze_necessarie_per_la_preparazione'. Nonostante questo uno chef può cucinare ipoteticamente un piatto anche se non possiede tutte le richieste necessarie (puoi capire se le possiede nella chiave 'licenze_ok').\n",
    "- Nella galassia dove si trovano questi ristoranti è diffuso un manuale di cucina prodotto da Sirius Cosmo.\n",
    "- Un piatto potrebbe richiedere l'utilizzo di una tecnica contenuta nel manuale di Sirius Cosmo, trovi le tecnice di Sirius Cosmo necessarie alla preparazione nella chiave 'tecniche_utilizzate_del_Sirius_Cosmo'.\n",
    "\n",
    "Di seguito ti forniro esempio di dizionario, due esempi di domanda con relativi due esempi di soluzione.\n",
    "\n",
    "### DIZIONARIO DI ESEMPIO:\n",
    "{example_dict}\n",
    "\n",
    "### DOMANDA ESEMPIO 1:\n",
    "\"Questo piatto soddisfa i seguenti requisiti?:\n",
    "- nella sua preparazione è necessaria almeno una tecnica di surgelamento del manuale di Sirius Cosmo.\n",
    "- il ristorante in cui viene preparato dista massimo 317 anni luce da Krypton, oppure è situato su Krypton.\"\n",
    "\n",
    "### SOLUZIONE ESEMPIO 1:\n",
    "\"def verifica_piatto(d):\n",
    "    \n",
    "    conditions = list()\n",
    "    \n",
    "    # - nella sua preparazione è necessaria almeno una tecnica di surgelamento del manuale di Sirius Cosmo.\n",
    "    conditions.append(\n",
    "        len(d['tecniche_utilizzate_del_Sirius_Cosmo']['Tecniche di Preparazione']['tecniche di Surgelamento']) > 0\n",
    "    )\n",
    "    \n",
    "    # - il ristorante in cui viene preparato dista massimo 317 anni luce da Krypton, oppure è situato su Krypton.\"\n",
    "    conditions.append(\n",
    "        (d['dati_ristorante']['distanze_da_altri_pianeti']['Krypton'] < 317)\n",
    "        or\n",
    "        (d['dati_ristorante']['pianeta'] == 'Krypton')\n",
    "    )\n",
    "    \n",
    "    return all(conditions)\"\n",
    "    \n",
    "### DOMANDA ESEMPIO 2:\n",
    "\"Questo piatto soddisfa i seguenti requisiti?:\n",
    "- nella sua preparazione è necessaria almeno una tecnica di taglio tratta dal manuale di Sirius Cosmo.\n",
    "- nella sua preparazione è necessaria la \"Licenza Gravitazionale (G)\" di livello 2 o superiore.\n",
    "- non contiene tra gli ingredienti i 'gnocchi del crepuscolo'.\"\n",
    "\n",
    "\n",
    "### SOLUZIONE ESEMPIO 2:\n",
    "\"def verifica_piatto(d):\n",
    "    import Levenshtein\n",
    "    \n",
    "    conditions = list()\n",
    "    \n",
    "    # - nella sua preparazione è necessaria almeno una tecnica di taglio tratta dal manuale di Sirius Cosmo.\n",
    "    conditions.append(\n",
    "        len(d['tecniche_utilizzate_del_Sirius_Cosmo']['Tecniche Avanzate']['Tecniche di Taglio']) > 0\n",
    "    )\n",
    "    \n",
    "    # - nella sua preparazione è necessaria la \"Licenza Gravitazionale (G)\" di livello 2 o superiore.\n",
    "    licenze_filtrate = [l for l in d['licenze_necessarie_per_la_preparazione'] if 'Licenza Gravitazionale (G)' in l]\n",
    "    licenze_filtrate = list(filter(lambda x: x['Licenza Gravitazionale (G)'] >= 2, licenze_filtrate))\n",
    "    conditions.append(len(licenze_filtrate) > 0)\n",
    "    \n",
    "    # - non contiene tra gli ingredienti i 'gnocchi del crepuscolo'.\"\n",
    "    lista_ingredienti = [ingrediente.lower().strip() for ingrediente in d['ingredienti']]\n",
    "    contiene_ingrediente = any(Levenshtein.distance(ingrediente, \"gnocchi del crepuscolo\".lower().strip()) <= 3 for ingrediente in lista_ingredienti)\n",
    "    conditions.append(not contiene_ingrediente)\n",
    "    \n",
    "    return all(conditions)\"\n",
    "    \n",
    "----\n",
    "\n",
    "Forniscimi in output solo la definzione di una funzione python che si chiama 'verifica_piatto', che prende in input solamente un dizionario, e che restituisce un booleano, in modo che possa inserirla in un exec().\n",
    "Ricordati di usare i lower e la distanza di Levenshstein quando necessario.\n",
    "\n",
    "Ragiona per step, leggi bene la **DOMANDA** e cerca di scomporla in requisiti che il piatto deve avere.\n",
    "\n",
    "### DOMANDA:\n",
    "{query}\n",
    "\n",
    "### SOLUZIONE:\n",
    "\n",
    "\"\"\"\n",
    "        }\n",
    "    ],\n",
    "    )\n",
    "    f = output.choices[0].message.content\n",
    "    functions[i] = f\n",
    "    f = f.replace('`', '').replace('python', '')\n",
    "    try:\n",
    "        exec(f)\n",
    "        for plate, d in plate_info_dictionary.items():\n",
    "            if verifica_piatto(d):\n",
    "                responses[i].append(dish_mapping.get(plate))\n",
    "    except:\n",
    "        print(\"error in exec\")\n",
    "    print(f\"Piatti idonei trovati: {len(responses[i])}\")"
   ]
  },
  {
   "cell_type": "code",
   "execution_count": null,
   "id": "07e2cbef-c44d-47e4-850f-bac75087065b",
   "metadata": {
    "tags": []
   },
   "outputs": [],
   "source": [
    "with open(\"/Users/vanzettom/Documents/mattia/personale/hackapizza/data_preprocessed/responses.json\", \"w\", encoding=\"utf-8\") as f:\n",
    "    json.dump(responses, f, ensure_ascii=False, indent=4)"
   ]
  },
  {
   "cell_type": "code",
   "execution_count": null,
   "id": "a7f8f2ca-1813-4985-828c-718f84bcc7ff",
   "metadata": {
    "tags": []
   },
   "outputs": [],
   "source": [
    "responses_pd = pd.DataFrame({'row_id': responses.keys(), 'result': responses.values()})"
   ]
  },
  {
   "cell_type": "code",
   "execution_count": null,
   "id": "67efe204-8ffc-45fa-83b1-e4584e6ec59c",
   "metadata": {
    "tags": []
   },
   "outputs": [],
   "source": [
    "default_pred_list = [1,2,3]\n",
    "\n",
    "responses_pd['result'] = responses_pd['result'].apply(lambda x: x if len(x) > 0 else default_pred_list)"
   ]
  },
  {
   "cell_type": "code",
   "execution_count": null,
   "id": "41e39bc0-e084-4276-a06d-4fa832f5800e",
   "metadata": {
    "tags": []
   },
   "outputs": [],
   "source": [
    "responses_pd['result'] = responses_pd['result'].apply(lambda x: \",\".join([str(p) for p in x]).replace(\"None,\", \"\"))"
   ]
  },
  {
   "cell_type": "code",
   "execution_count": null,
   "id": "6cd6a68c-da66-4d0a-bfa9-c545a838d95f",
   "metadata": {
    "tags": []
   },
   "outputs": [],
   "source": [
    "pd.set_option('display.max_rows', 101)"
   ]
  },
  {
   "cell_type": "code",
   "execution_count": null,
   "id": "9139fc6d-001a-479a-b3e4-951537af5d3a",
   "metadata": {
    "scrolled": true,
    "tags": []
   },
   "outputs": [],
   "source": [
    "responses_pd"
   ]
  },
  {
   "cell_type": "code",
   "execution_count": null,
   "id": "1d1b3e17-e7f2-41f6-bbc0-a068ab14cb50",
   "metadata": {
    "tags": []
   },
   "outputs": [],
   "source": [
    "responses_pd.to_csv(f\"/Users/vanzettom/Documents/mattia/personale/hackapizza/submissions/submission_questions_redefined_v5.csv\", index=False, sep=\",\")"
   ]
  },
  {
   "cell_type": "markdown",
   "id": "857f2b4c-2e24-46d8-a453-d402b28bdc80",
   "metadata": {},
   "source": [
    "### Piano B - RAG andando a cercare documenti specifici"
   ]
  },
  {
   "cell_type": "code",
   "execution_count": null,
   "id": "c38192d2-e6f1-4710-847a-39aedac823d4",
   "metadata": {
    "tags": []
   },
   "outputs": [],
   "source": [
    "import openai\n",
    "from pydantic import BaseModel"
   ]
  },
  {
   "cell_type": "code",
   "execution_count": null,
   "id": "718c194d-3986-4b50-8079-4f949576ea80",
   "metadata": {
    "tags": []
   },
   "outputs": [],
   "source": [
    "with open(\"/Users/vanzettom/Documents/mattia/personale/hackapizza/data_preprocessed/plate_chunks_rag.json\") as f:\n",
    "    plate_chunks_rag = json.load(f)  "
   ]
  },
  {
   "cell_type": "code",
   "execution_count": null,
   "id": "c0e89f1b-df19-436f-899c-b47eaacdc0f4",
   "metadata": {
    "tags": []
   },
   "outputs": [],
   "source": [
    "with open(\"/Users/vanzettom/Documents/mattia/personale/hackapizza/data_preprocessed/manuale_sirius_cosmo.json\") as f:\n",
    "    manuale_sirius_cosmo = json.load(f)  "
   ]
  },
  {
   "cell_type": "code",
   "execution_count": null,
   "id": "5912d403-a00c-49fc-afc1-0140fffbd8f9",
   "metadata": {
    "tags": []
   },
   "outputs": [],
   "source": [
    "with open(\"/Users/vanzettom/Documents/mattia/personale/hackapizza/data_preprocessed/distanze.json\") as f:\n",
    "    distanze = json.load(f)  "
   ]
  },
  {
   "cell_type": "code",
   "execution_count": null,
   "id": "4ec22d61-1592-4976-8915-47a86c1c1500",
   "metadata": {},
   "outputs": [],
   "source": [
    "with open(\"/Users/vanzettom/Documents/mattia/personale/hackapizza/data_preprocessed/sostanze_quantita_regolamentate.json\") as f:\n",
    "    sostanze_quantita_regolamentate = json.load(f)  "
   ]
  },
  {
   "cell_type": "code",
   "execution_count": null,
   "id": "b7f28839-8239-4677-be49-a70d011ae056",
   "metadata": {},
   "outputs": [],
   "source": [
    "with open(\"/Users/vanzettom/Documents/mattia/personale/hackapizza/data_preprocessed/licenze_necessarie_per_tecniche.json\") as f:\n",
    "    licenze_necessarie_per_tecniche = json.load(f)  "
   ]
  },
  {
   "cell_type": "code",
   "execution_count": null,
   "id": "be57d174-2e44-40b3-9b8c-68b2752e66b5",
   "metadata": {},
   "outputs": [],
   "source": [
    "with open(\"/Users/vanzettom/Documents/mattia/personale/hackapizza/data_preprocessed/sanzioni_pene.json\") as f:\n",
    "    sanzioni_pene = json.load(f)  "
   ]
  },
  {
   "cell_type": "code",
   "execution_count": null,
   "id": "a99e0485-1c9d-4079-97d1-fcd17d88c1d8",
   "metadata": {},
   "outputs": [],
   "source": [
    "with open(\"/Users/vanzettom/Documents/mattia/personale/hackapizza/data_preprocessed/blog_etere_del_gusto.json\") as f:\n",
    "    blog_etere_del_gusto = json.load(f)  "
   ]
  },
  {
   "cell_type": "code",
   "execution_count": null,
   "id": "558c4df1-b326-4f9e-a29a-b1830089d890",
   "metadata": {},
   "outputs": [],
   "source": [
    "with open(\"/Users/vanzettom/Documents/mattia/personale/hackapizza/data_preprocessed/blog_sapore_del_dune.json\") as f:\n",
    "    blog_sapore_del_dune = json.load(f)  "
   ]
  },
  {
   "cell_type": "code",
   "execution_count": null,
   "id": "4edc49e6-11f2-4752-9ae4-4efd4097a562",
   "metadata": {
    "tags": []
   },
   "outputs": [],
   "source": [
    "import faiss\n",
    "import tiktoken\n",
    "\n",
    "client = openai.OpenAI(api_key=api_key)\n",
    "\n",
    "def chunk_text(text, chunk_size=500, overlap=50):\n",
    "    tokenizer = tiktoken.get_encoding(\"cl100k_base\")\n",
    "    tokens = tokenizer.encode(text)\n",
    "    chunks = []\n",
    "    for i in range(0, len(tokens), chunk_size - overlap):\n",
    "        chunk_tokens = tokens[i:i + chunk_size]\n",
    "        chunk_text = tokenizer.decode(chunk_tokens)\n",
    "        chunks.append(chunk_text)\n",
    "    return chunks\n",
    "\n",
    "def create_vector_db(client, text, model=\"text-embedding-ada-002\", chunk_size=500, overlap=50):\n",
    "    texts = chunk_text(text, chunk_size, overlap)\n",
    "    embeddings = np.array([get_embedding(client, t, model) for t in texts]).astype('float32')\n",
    "    index = faiss.IndexFlatL2(embeddings.shape[1])\n",
    "    index.add(embeddings)\n",
    "    return index, texts\n",
    "\n",
    "def search_similar_chunks(client, query, index, texts, k=5, model=\"text-embedding-ada-002\"):\n",
    "    query_embedding = get_embedding(client, query, model).astype('float32').reshape(1, -1)\n",
    "    distances, indices = index.search(query_embedding, k)\n",
    "    return [texts[i] for i in indices[0]]\n",
    "\n",
    "\n",
    "def get_embedding(client, text, model=\"text-embedding-ada-002\"):\n",
    "    response = client.embeddings.create(input=[text], model=model)\n",
    "    return np.array(response.data[0].embedding)\n",
    "\n",
    "def retrieve_top_k_from_dict(query, embeddings_dict, k=20):\n",
    "    query_embedding = get_embedding(client, query)\n",
    "    \n",
    "    similarities = {\n",
    "        key: np.dot(query_embedding, embedding) / (np.linalg.norm(query_embedding) * np.linalg.norm(embedding))\n",
    "        for key, embedding in embeddings_dict.items()\n",
    "    }\n",
    "    \n",
    "    top_k_keys = sorted(similarities, key=similarities.get, reverse=True)[:k]\n",
    "    \n",
    "    return top_k_keys"
   ]
  },
  {
   "cell_type": "code",
   "execution_count": null,
   "id": "3f4ce5cb-7c6c-4283-9e91-b136a31dd4e5",
   "metadata": {
    "tags": []
   },
   "outputs": [],
   "source": [
    "# Creo gli embedding per le descrizioni dei piatti e li salvo in un dizionario (poi mi servirà la chiave)\n",
    "descrizione_piatti_embeddings_dict = {key: get_embedding(client, value) for key, value in plate_chunks_rag.items()}"
   ]
  },
  {
   "cell_type": "code",
   "execution_count": null,
   "id": "367515a9-f8d0-49d8-828d-c2f10da8782c",
   "metadata": {
    "tags": []
   },
   "outputs": [],
   "source": [
    "# Creo un vector DB solo per il manuale di Sirius Cosmo + Lista di licenze necessarie per usare le tecniche, perché gli altri sono testi corti\n",
    "\n",
    "index_SC, texts_SC = create_vector_db(client, manuale_sirius_cosmo, model=\"text-embedding-ada-002\", chunk_size=500, overlap=50)\n",
    "\n",
    "index_LNPT, texts_LNPT = create_vector_db(client, licenze_necessarie_per_tecniche, model=\"text-embedding-ada-002\", chunk_size=500, overlap=50)"
   ]
  },
  {
   "cell_type": "markdown",
   "id": "1c036042-74e9-4685-b431-910274f3dadf",
   "metadata": {},
   "source": [
    "### Domande senza risposta"
   ]
  },
  {
   "cell_type": "code",
   "execution_count": null,
   "id": "d8705b45-3e76-41c7-b373-2b3108f97628",
   "metadata": {
    "tags": []
   },
   "outputs": [],
   "source": [
    "responses_pd = pd.read_csv(f\"/Users/vanzettom/Documents/mattia/personale/hackapizza/submissions/submission_questions_redefined_v5.csv\",)"
   ]
  },
  {
   "cell_type": "code",
   "execution_count": null,
   "id": "775445d7-1844-4aa6-bc8b-5ceeed5d71fa",
   "metadata": {
    "tags": []
   },
   "outputs": [],
   "source": [
    "question_remaining_ids = list(responses_pd.loc[responses_pd['result'] == '1,2,3', 'row_id'])\n",
    "question_remaining_ids"
   ]
  },
  {
   "cell_type": "markdown",
   "id": "e88a1d66-49b4-49c7-be30-7c811b590f16",
   "metadata": {},
   "source": [
    "### che documenti servono per rispondere alla domanda? + rag"
   ]
  },
  {
   "cell_type": "code",
   "execution_count": null,
   "id": "dfae999a-54e3-4551-8896-8072d6df68bb",
   "metadata": {
    "tags": []
   },
   "outputs": [],
   "source": [
    "class DocNeeded(BaseModel):\n",
    "    manuale_sirius_cosmo: bool\n",
    "    distanze_pianeti: bool\n",
    "    sostanze_quantita_regolamentate: bool\n",
    "    licenze_necessarie_per_tecniche: bool\n",
    "    sanzioni_pene: bool\n",
    "    blog_etere_del_gusto: bool\n",
    "    blog_sapore_del_dune: bool\n",
    "    license_list: bool"
   ]
  },
  {
   "cell_type": "code",
   "execution_count": null,
   "id": "114b5768-3ec4-4a9e-8da2-cc29fbe76dda",
   "metadata": {
    "scrolled": true,
    "tags": []
   },
   "outputs": [],
   "source": [
    "client = openai.OpenAI(\n",
    "  api_key=api_key\n",
    ")\n",
    "\n",
    "remaining_answers_doc_needed = dict()\n",
    "\n",
    "for id_query in question_remaining_ids:\n",
    "    print(f\"\\nDoc needed for query #{id_query}:\\n\")\n",
    "    doc_needed = client.beta.chat.completions.parse(\n",
    "        \n",
    "        model=\"gpt-4o\",\n",
    "        \n",
    "        store=True,\n",
    "        messages=[\n",
    "            {\n",
    "            \"role\": \"system\",\n",
    "            \"content\": \"\"\"\n",
    "Sei un assistente esperto di cucina intergalattica che sta aiutando a capire quali documenti sono utili per rispondere ad una domanda di un utente relativi a dei piatti di cucina. Ci troviamo in un contesto fantascientifico, quindi i piatti sono inventati, come anche gli ingredienti che contengono e le tecniche di cucina che li compongono.\n",
    "\"\"\"\n",
    "            },\n",
    "            {\n",
    "            \"role\": \"user\",\n",
    "            \"content\": f\"\"\"\n",
    "Data la seguente domanda dell'utente:\n",
    "\n",
    "### DOMANDA:\n",
    "\n",
    "{new_questions[id_query]}\n",
    "\n",
    "###\n",
    "\n",
    "Oltre alla descrizione dei piatti, quali dei seguenti documenti a disposizione ritieni possano essere utili per rispondere alla domanda?\n",
    "\n",
    "- 'manuale_sirius_cosmo: manuale di cucina di Sirius Cosmo: contiene descrizioni di tecniche di cucina (**considera che se non è nominato nella domanda di solito non è utile**).\n",
    "\n",
    "- 'license_list': lista di tutte le possibili licenze che uno chef può possedere (ogni licenza è associata ad un livello).\n",
    "\n",
    "- 'distanze': riporta le distanze in anni luce tra diversi pianeti (utile solo se la domanda contiene dettagli geografici tra pianeti).\n",
    "\n",
    "- 'sostanze_quantita_regolamentate': documento sulla sostanze regolamentate che si possono usare in cucina nell'universo in cui ci troviamo e sulle loro **quantità** che è possibile utilizzare.\n",
    "\n",
    "- 'licenze_necessarie_per_tecniche': lista di quali licenze è necessario possedere per utilizzare una specifica tecnica di cucina.\n",
    "\n",
    "- 'sanzioni_pene': lista di sanzioni possibili.\n",
    "\n",
    "- 'blog_etere_del_gusto': articolo che parla dei piatti serviti al ristorante \"etere del gusto\", contiene informazioni utili sui piatti serviti e sulle quantità volumetriche degli ingredienti che compongono i piatti.\n",
    "\n",
    "- 'blog_sapore_del_dune': articolo che parla dei piatti serviti al ristorante \"sapore del dune\", contiene informazioni utili sui piatti serviti e sulle quantità volumetriche degli ingredienti che compongono i piatti.\n",
    "\n",
    "\n",
    "quali dei documenti elencati ritieni possano essere utili per rispondere alla domanda?\n",
    "Rispondi valorizzando gli attributi della classi di output con opportuni valori booleani.\n",
    "\n",
    "\"\"\"\n",
    "            }\n",
    "        ],\n",
    "        response_format=DocNeeded,\n",
    "    )\n",
    "    remaining_answers_doc_needed[id_query] = doc_needed\n",
    "    print(doc_needed)"
   ]
  },
  {
   "cell_type": "code",
   "execution_count": null,
   "id": "105152c2-2ddc-4b24-85ec-73a1e73a26cc",
   "metadata": {},
   "outputs": [],
   "source": [
    "class DocNeeded(BaseModel):\n",
    "    manuale_sirius_cosmo: bool\n",
    "    distanze_pianeti: bool\n",
    "    sostanze_quantita_regolamentate: bool\n",
    "    licenze_necessarie_per_tecniche: bool\n",
    "    sanzioni_pene: bool\n",
    "    blog_etere_del_gusto: bool\n",
    "    blog_sapore_del_dune: bool\n",
    "    license_list: bool"
   ]
  },
  {
   "cell_type": "code",
   "execution_count": null,
   "id": "7e86558a-b1f0-4fda-851d-f43a9b6f2b50",
   "metadata": {
    "tags": []
   },
   "outputs": [],
   "source": [
    "%%time\n",
    "\n",
    "class PlateOk(BaseModel):\n",
    "    response: bool\n",
    "\n",
    "remaining_responses = dict()\n",
    "\n",
    "for id_query in question_remaining_ids:\n",
    "    print(f\"\\nProcessing query: {id_query}\")\n",
    "    \n",
    "    remaining_responses[id_query] = list()\n",
    "    \n",
    "    query = questions['domanda'][id_query-1]\n",
    "    \n",
    "    doc_needed = remaining_answers_doc_needed[id_query].choices[0].message.parsed\n",
    "    \n",
    "    auxiliary_texts = list()\n",
    "    \n",
    "    if doc_needed.manuale_sirius_cosmo:\n",
    "        auxiliary_texts.extend([\"### FRAMMENTI DAL MANUALE DI CUCINA DI SIRIUS COSMO\\n\\n\"])\n",
    "        auxiliary_texts.extend(search_similar_chunks(client, query, index_SC, texts_SC, k=10, model=\"text-embedding-ada-002\"))\n",
    "    \n",
    "    if doc_needed.distanze_pianeti:\n",
    "        auxiliary_texts.extend([\"### DISTANZE TRA PIANETI:\\n\\n\"])\n",
    "        auxiliary_texts.extend(distanze)\n",
    "        \n",
    "    if doc_needed.sostanze_quantita_regolamentate:\n",
    "        auxiliary_texts.extend([\"### SOSTANZE E QUANTITA' REGOLAMENTATAE:\\n\\n\"])\n",
    "        auxiliary_texts.extend(sostanze_quantita_regolamentate)\n",
    "        \n",
    "    if doc_needed.licenze_necessarie_per_tecniche:\n",
    "        auxiliary_texts.extend([\"### FRAMMENTI DA LISTA DI LICENZE NECESSARIE PER USARE CERTE TECNICHE:\\n\\n\"])\n",
    "        auxiliary_texts.extend(search_similar_chunks(client, query, index_LNPT, texts_LNPT, k=10, model=\"text-embedding-ada-002\"))\n",
    "    \n",
    "    if doc_needed.sanzioni_pene:\n",
    "        auxiliary_texts.extend([\"### LISTA DI SANZIONI POSSIBILI:\\n\\n\"])\n",
    "        auxiliary_texts.extend(sanzioni_pene)\n",
    "        \n",
    "    if doc_needed.blog_etere_del_gusto:\n",
    "        auxiliary_texts.extend([\"### BLOG RISTORANTE ETERE DEL GUSTO:\\n\\n\"])\n",
    "        auxiliary_texts.extend(blog_etere_del_gusto)\n",
    "        \n",
    "    if doc_needed.blog_sapore_del_dune:\n",
    "        auxiliary_texts.extend([\"### BLOG RISTORNATE SAPORE DEL DUNE:\\n\\n\"])\n",
    "        auxiliary_texts.extend(blog_sapore_del_dune)\n",
    "        \n",
    "    if doc_needed.license_list:\n",
    "        auxiliary_texts.extend([\"### LISTA DI TUTTE LE LICENZE CHE E' POSSIBILE AVERE:\\n\\n\"])\n",
    "        auxiliary_texts.extend(license_list)\n",
    "    \n",
    "    if len(auxiliary_texts) > 0:\n",
    "        auxiliary_prompt = \"### DOCUMENTI DI AIUTO:\\n\\n\" + \"\\n---\\n\\n\".join(auxiliary_texts)\n",
    "        \n",
    "    top_plates = retrieve_top_k_from_dict(query, embeddings_dict=descrizione_piatti_embeddings_dict, k=20)\n",
    "    \n",
    "    for plate in top_plates:\n",
    "        output = client.beta.chat.completions.parse(\n",
    "            \n",
    "            model=\"gpt-4o\", #\"o3-mini\",\n",
    "            \n",
    "            store=True,\n",
    "            messages=[\n",
    "                {\n",
    "                    \"role\": \"system\",\n",
    "                    \"content\": \"\"\"\n",
    "        Sei un assistente esperto di cucina che sta aiutando a capire se uno specifico piatto soddisfa o meno una richiesta di un cliente.\n",
    "        I piatti di cui leggerai sono inventati e si trovano in una ambientazione fantascientifica nello spazio, in diversi sistemi solari.\n",
    "        \"\"\"\n",
    "                },\n",
    "                {\n",
    "                    \"role\": \"user\",\n",
    "                    \"content\": f\"\"\"\n",
    "Date le seguenti informazioni, contenute in frammenti presi da documenti di vario tipo:\n",
    "\n",
    "{auxiliary_prompt}\n",
    "\n",
    "Data la seguente domanda:\n",
    "\n",
    "### DOMANDA:\n",
    "{query}\n",
    "\n",
    "Il seguente piatto soddisfa la domanda dell'utente?\n",
    "\n",
    "### DESCRIZIONE DEL PIATTO:\n",
    "\n",
    "{plate_chunks_rag[plate]}\n",
    "\n",
    "###\n",
    "\n",
    "rispondi solo True o False.\n",
    "\"\"\"\n",
    "                }\n",
    "            ],\n",
    "            response_format=PlateOk,\n",
    "        )\n",
    "        if output.choices[0].message.parsed.response:\n",
    "            remaining_responses[id_query].append(plate)\n",
    "    print(remaining_responses[id_query])"
   ]
  },
  {
   "cell_type": "code",
   "execution_count": null,
   "id": "506a2759-5dda-4c30-aa43-e48d9c57378e",
   "metadata": {
    "tags": []
   },
   "outputs": [],
   "source": [
    "question_remaining_ids"
   ]
  },
  {
   "cell_type": "code",
   "execution_count": null,
   "id": "5f8b9107-8b9c-4674-929f-468fc3631dda",
   "metadata": {
    "tags": []
   },
   "outputs": [],
   "source": [
    "remaining_responses"
   ]
  },
  {
   "cell_type": "code",
   "execution_count": null,
   "id": "20c7efef-da91-4470-b5b8-6cecb08ea894",
   "metadata": {
    "tags": []
   },
   "outputs": [],
   "source": [
    "for id_query in question_remaining_ids:\n",
    "    if len(remaining_responses[id_query]) > 0:\n",
    "        answer = ','.join([str(dish_mapping.get(plate)) for plate in remaining_responses[i]])\n",
    "        responses_pd.loc[responses_pd['row_id'] == id_query, 'result'] = answer"
   ]
  },
  {
   "cell_type": "code",
   "execution_count": null,
   "id": "db234acc-57a3-4831-b57f-888cddb6cc65",
   "metadata": {
    "scrolled": true,
    "tags": []
   },
   "outputs": [],
   "source": [
    "responses_pd"
   ]
  },
  {
   "cell_type": "code",
   "execution_count": null,
   "id": "38dda464-a37a-4bbb-9d64-fedd79e5df4d",
   "metadata": {
    "tags": []
   },
   "outputs": [],
   "source": [
    "sum(responses_pd['result'] == '1,2,3')"
   ]
  },
  {
   "cell_type": "code",
   "execution_count": null,
   "id": "f004af35-f73e-4746-9961-ed3370239d7a",
   "metadata": {
    "tags": []
   },
   "outputs": [],
   "source": [
    "responses_pd.to_csv(f\"/Users/vanzettom/Documents/mattia/personale/hackapizza/submissions/submission_questions_redefined_v5_rag.csv\", index=False, sep=\",\")"
   ]
  },
  {
   "cell_type": "code",
   "execution_count": null,
   "id": "63cb8d94-0f6f-4bd0-b48c-1f0d8d65e1bd",
   "metadata": {},
   "outputs": [],
   "source": []
  }
 ],
 "metadata": {
  "kernelspec": {
   "display_name": "nlp_base",
   "language": "python",
   "name": "nlp_base"
  },
  "language_info": {
   "codemirror_mode": {
    "name": "ipython",
    "version": 3
   },
   "file_extension": ".py",
   "mimetype": "text/x-python",
   "name": "python",
   "nbconvert_exporter": "python",
   "pygments_lexer": "ipython3",
   "version": "3.11.9"
  }
 },
 "nbformat": 4,
 "nbformat_minor": 5
}
