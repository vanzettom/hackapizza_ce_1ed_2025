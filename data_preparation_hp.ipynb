{
 "cells": [
  {
   "cell_type": "code",
   "execution_count": null,
   "id": "98bf039e-84a6-49ef-96f1-afb6eed2d0bc",
   "metadata": {
    "tags": []
   },
   "outputs": [],
   "source": [
    "import os\n",
    "import re\n",
    "import json\n",
    "from copy import deepcopy\n",
    "\n",
    "import fitz\n",
    "import Levenshtein\n",
    "import pandas as pd\n",
    "from openai import OpenAI, ChatCompletion\n",
    "from pydantic import BaseModel"
   ]
  },
  {
   "cell_type": "code",
   "execution_count": null,
   "id": "6096dc57-5c25-4a4c-b83f-ec90f691211d",
   "metadata": {
    "tags": []
   },
   "outputs": [],
   "source": [
    "with open(\"/Users/vanzettom/Documents/mattia/personale/hackapizza/openai_api_mattiavanzetto.txt\", encoding='utf-8') as file:\n",
    "    api_key = file.read()"
   ]
  },
  {
   "cell_type": "markdown",
   "id": "a285dea3-5882-41aa-8fe3-7742c3ad60bf",
   "metadata": {},
   "source": [
    "### PDF to text\n",
    "\n",
    "Saving all menu pdf content in a dictionary with key name of the restaurant, value text of the menu."
   ]
  },
  {
   "cell_type": "code",
   "execution_count": null,
   "id": "4d14831a-ce39-4dee-91cf-15b142fb9bab",
   "metadata": {
    "scrolled": true,
    "tags": []
   },
   "outputs": [],
   "source": [
    "folder_path = \"/Users/vanzettom/Documents/mattia/personale/hackapizza/Hackapizza Dataset/Menu\"\n",
    "\n",
    "text_dict = {}\n",
    "\n",
    "for i, filename in enumerate(os.listdir(folder_path), start=1):\n",
    "    if filename.endswith(\".pdf\"):\n",
    "        file_path = os.path.join(folder_path, filename)\n",
    "\n",
    "        doc = fitz.open(file_path)\n",
    "        text = \"\\n\".join([page.get_text(\"text\") for page in doc])\n",
    "        doc.close()\n",
    "\n",
    "        file_key = os.path.splitext(filename)[0]\n",
    "        print(f\"{i} - {file_key}\")\n",
    "        text_dict[file_key] = text"
   ]
  },
  {
   "cell_type": "markdown",
   "id": "0f38d78f-7b3f-4f28-a088-1263407c5e58",
   "metadata": {},
   "source": [
    "Converting symbols related to galaxy orders to text indicating explicitly that the plate can be eaten by certain orders."
   ]
  },
  {
   "cell_type": "code",
   "execution_count": null,
   "id": "ed5c55ba-bd0d-43f7-9dbe-019b1ce352c4",
   "metadata": {},
   "outputs": [],
   "source": [
    "print(text_dict['Datapizza'][2501:2650])"
   ]
  },
  {
   "cell_type": "code",
   "execution_count": null,
   "id": "4e63cc10-9974-4254-b65c-bf8bbcecd8f3",
   "metadata": {
    "tags": []
   },
   "outputs": [],
   "source": [
    "text_dict = {k: v.replace(\" 🪐\", \"\\nQuesto piatto può essere mangiato dai membri dell'Ordine della Galassia di Andromeda.\") for k, v in text_dict.items()}\n",
    "text_dict = {k: v.replace(\" 🌱\", \"\\nQuesto piatto può essere mangiato dai membri dell'Ordine dei Naturalisti.\") for k, v in text_dict.items()}\n",
    "text_dict = {k: v.replace(\" 🌈\", \"\\nQuesto piatto può essere mangiato dai membri dell'Ordine degli Armonisti.\") for k, v in text_dict.items()}"
   ]
  },
  {
   "cell_type": "code",
   "execution_count": null,
   "id": "5e6c807c-27eb-457b-b5c8-e97e2e2fc404",
   "metadata": {
    "tags": []
   },
   "outputs": [],
   "source": [
    "print(text_dict['Datapizza'][2501:2650])"
   ]
  },
  {
   "cell_type": "raw",
   "id": "e1c8b20c-117a-432f-8a77-0a3e0fdc0569",
   "metadata": {
    "tags": []
   },
   "source": [
    "with open(\"/Users/vanzettom/Documents/mattia/personale/hackapizza/data_preprocessed/menu_text_dict.json\", \"w\", encoding=\"utf-8\") as f:\n",
    "    json.dump(menu_text_dict, f, ensure_ascii=False, indent=4)"
   ]
  },
  {
   "cell_type": "code",
   "execution_count": null,
   "id": "d73dcf65-e7e7-4eef-9ff9-8ebd27254443",
   "metadata": {
    "tags": []
   },
   "outputs": [],
   "source": [
    "with open(\"/Users/vanzettom/Documents/mattia/personale/hackapizza/data_preprocessed/menu_text_dict.json\") as f:\n",
    "    menu_text_dict = json.load(f)"
   ]
  },
  {
   "cell_type": "markdown",
   "id": "640dfa50-50b1-4f15-ae7a-3191f2982fed",
   "metadata": {},
   "source": [
    "### Menu chunking with regex\n",
    "\n",
    "I exploit the dish_mapping.json file to create single chunk containing all the text related to a specific dish. To do so I use Levenshtein distance since there are typos."
   ]
  },
  {
   "cell_type": "markdown",
   "id": "0b7e5eed-8e34-4f11-8139-89bb578f0f37",
   "metadata": {},
   "source": [
    "Firstly I want to create a list of plate for every restaurant"
   ]
  },
  {
   "cell_type": "code",
   "execution_count": null,
   "id": "df8a972b-d008-4460-be5f-caeecfd10240",
   "metadata": {},
   "outputs": [],
   "source": [
    "with open(\"/Users/vanzettom/Documents/mattia/personale/hackapizza/Hackapizza Dataset/Misc/dish_mapping.json\") as f:\n",
    "    dish_mapping = json.load(f)    "
   ]
  },
  {
   "cell_type": "code",
   "execution_count": null,
   "id": "4ea26aba-0ccd-475d-ba5a-c814006b7cdf",
   "metadata": {
    "scrolled": true,
    "tags": []
   },
   "outputs": [],
   "source": [
    "dish_mapping"
   ]
  },
  {
   "cell_type": "code",
   "execution_count": null,
   "id": "564e92ae-ba07-461c-97cc-626d10301016",
   "metadata": {
    "tags": []
   },
   "outputs": [],
   "source": [
    "def contains_fuzzy_by_line(text, query, max_distance=2, lower=True):\n",
    "    \"\"\"\n",
    "    Checks if 'query' is present in the text line by line,\n",
    "    allowing a maximum Levenshtein distance of 'max_distance'.\n",
    "    \"\"\"\n",
    "    \n",
    "    if lower:\n",
    "        query = query.lower()\n",
    "        text = text.lower()\n",
    "\n",
    "    lines = text.split(\"\\n\")\n",
    "    \n",
    "    for line in lines:\n",
    "        if Levenshtein.distance(line.strip(), query) <= max_distance:\n",
    "            return True, line\n",
    "    \n",
    "    return False, 'no match'"
   ]
  },
  {
   "cell_type": "code",
   "execution_count": null,
   "id": "3c97b70b-ef78-4088-b555-01e2e3a6b2e9",
   "metadata": {
    "tags": []
   },
   "outputs": [],
   "source": [
    "# example\n",
    "\n",
    "contains_fuzzy_by_line(text_dict['L Essenza di Asgard'], 'Galassia di Sapore', max_distance=0)"
   ]
  },
  {
   "cell_type": "code",
   "execution_count": null,
   "id": "7b40ca5b-4560-4ce4-9ac9-c82a71d5d82c",
   "metadata": {
    "scrolled": true,
    "tags": []
   },
   "outputs": [],
   "source": [
    "# list of all dishes\n",
    "all_dishes = list(dish_mapping.keys())\n",
    "\n",
    "# dictionary with key restaurant and value an empty list that will contain the list of dishes of the restaurant\n",
    "dish_list_dict = {k: list() for k in text_dict.keys()}\n",
    "\n",
    "# list containing all the dishes that need to be searched in the menu texts\n",
    "to_be_found = deepcopy(all_dishes)\n",
    "\n",
    "# auxiliary dictionary that will count how many times a dish is found in a menu\n",
    "# (there are dishes with similar names and wrong dishes could be asisgned to a restaurant)\n",
    "dish_found_count = {k: 0 for k in dish_mapping.keys()}\n",
    "\n",
    "# auxiliary dictionary that will containg a key for every dish found in multiple restaurants\n",
    "ambiguity_dict = dict()\n",
    "\n",
    "# dictionary containing a key for every restaurant, and as value a dictionary containing a key for every plate wrote with the original name,\n",
    "# value with name of the plate found in the menu (possibly mispelled) \n",
    "mapping_name_found = {k: dict() for k in text_dict.keys()} \n",
    "\n",
    "\n",
    "for dish in all_dishes:\n",
    "    found = False\n",
    "    max_distance = 0\n",
    "    while found == False:\n",
    "        for restaurant, text in text_dict.items():\n",
    "            match, line = contains_fuzzy_by_line(text, dish, max_distance=max_distance)\n",
    "            if match:\n",
    "                dish_found_count[dish] += 1\n",
    "                print(f\"{dish}: found\")\n",
    "                dish_list_dict[restaurant].append(dish)\n",
    "                mapping_name_found[restaurant][dish] = line\n",
    "        if dish_found_count[dish] == 0:\n",
    "            max_distance += 1\n",
    "        elif dish_found_count[dish] == 1:\n",
    "            found = True\n",
    "        elif dish_found_count[dish] > 1:\n",
    "            found = True\n",
    "            ambiguity_dict[dish] = [k for k, v in dish_list_dict.items() if dish in v]"
   ]
  },
  {
   "cell_type": "code",
   "execution_count": null,
   "id": "601efdd9-42b0-4c6e-a329-4d657a0a5397",
   "metadata": {
    "tags": []
   },
   "outputs": [],
   "source": [
    "ambiguity_dict"
   ]
  },
  {
   "cell_type": "code",
   "execution_count": null,
   "id": "a80cdc8a-6676-4df8-bf79-244f774dd7d8",
   "metadata": {
    "scrolled": true,
    "tags": []
   },
   "outputs": [],
   "source": [
    "{k: v for k, v in dish_found_count.items() if v == 0}"
   ]
  },
  {
   "cell_type": "code",
   "execution_count": null,
   "id": "47b7ab85-4531-4625-8233-5add8d6a46a2",
   "metadata": {
    "tags": []
   },
   "outputs": [],
   "source": [
    "{k: v for k, v in dish_found_count.items() if v > 1}"
   ]
  },
  {
   "cell_type": "code",
   "execution_count": null,
   "id": "56e5db71-f8ea-4f8f-bfe4-4211b70f0794",
   "metadata": {
    "scrolled": true,
    "tags": []
   },
   "outputs": [],
   "source": [
    "mapping_name_found"
   ]
  },
  {
   "cell_type": "code",
   "execution_count": null,
   "id": "5c75fb13-dfcc-4368-ad6b-3b8f203efa2e",
   "metadata": {
    "scrolled": true,
    "tags": []
   },
   "outputs": [],
   "source": [
    "for k, v in dish_list_dict.items():\n",
    "    print(f\"\\n{k}: \")\n",
    "    for dish in v:\n",
    "        print(f\"   - {dish}\")"
   ]
  },
  {
   "cell_type": "markdown",
   "id": "233f2a4e-9bb1-4c75-8c94-4462d8bd3529",
   "metadata": {},
   "source": [
    "It seems that every plate is correctly assigned to its restaurant.\n",
    "\n",
    "Now I create the chunks:"
   ]
  },
  {
   "cell_type": "code",
   "execution_count": null,
   "id": "22f1f2c3-1768-43c3-98af-1f1571ffe1de",
   "metadata": {},
   "outputs": [],
   "source": [
    "def get_chunks(text, dish_list):\n",
    "    lines = [l.strip() for l in text.lower().split(\"\\n\")]\n",
    "    \n",
    "    chunks = dict()\n",
    "    building_first_chunk = True\n",
    "    current_chunk = list()\n",
    "    remaining_dishes = list(dish_list)\n",
    "    key = 'intro'\n",
    "    \n",
    "    for line in lines:\n",
    "        current_chunk.append(line)\n",
    "        for dish in dish_list:\n",
    "            if dish == line:\n",
    "                chunks[key] = \"\\n\".join(current_chunk[:-1])\n",
    "                #print(chunks[key])\n",
    "                key = dish\n",
    "                remaining_dishes.remove(dish)\n",
    "                current_chunk = list()\n",
    "                \n",
    "                \n",
    "    if current_chunk:\n",
    "        chunks[key] = \"\\n\".join(current_chunk)\n",
    "    \n",
    "    print(f\"{len(remaining_dishes)} dishes remain not found: {remaining_dishes}\")\n",
    "    \n",
    "    return chunks"
   ]
  },
  {
   "cell_type": "code",
   "execution_count": null,
   "id": "8f020ac9-0935-44dd-9fbc-d4d0b817ebb7",
   "metadata": {
    "scrolled": true,
    "tags": []
   },
   "outputs": [],
   "source": [
    "all_pdf_chunks = {restaurant: dict() for restaurant in text_dict.keys()}\n",
    "\n",
    "for i, (restaurant, text) in enumerate(text_dict.items(), start=1):\n",
    "    print(f\"\\n{i} - {restaurant}:\")\n",
    "    all_pdf_chunks[restaurant] = get_chunks(text, mapping_name_found[restaurant].values())"
   ]
  },
  {
   "cell_type": "code",
   "execution_count": null,
   "id": "f8559028-2bf0-4a83-9bd2-84a34ec78575",
   "metadata": {
    "tags": []
   },
   "outputs": [],
   "source": [
    "to_remove = \"\"\"legenda ordini professionali gastronomici\n",
    "🪐 ordine della galassia di andromeda\n",
    "🌱 ordine dei naturalisti\n",
    "🌈 ordine degli armonisti\"\"\""
   ]
  },
  {
   "cell_type": "code",
   "execution_count": null,
   "id": "4b8e6e1b-b2c4-4ea0-9454-1c8231c37e59",
   "metadata": {
    "tags": []
   },
   "outputs": [],
   "source": [
    "all_pdf_chunks['Datapizza']['pizza baby simone e alessandro'] = all_pdf_chunks['Datapizza']['pizza baby simone e alessandro'].replace(to_remove, \"\")\n",
    "all_pdf_chunks['L Essenza delle Dune']['sfere del ricordo astrale'] = all_pdf_chunks['L Essenza delle Dune']['sfere del ricordo astrale'].replace(to_remove, \"\")"
   ]
  },
  {
   "cell_type": "code",
   "execution_count": null,
   "id": "a7e16333-f5be-4add-ba17-6545f48e82ec",
   "metadata": {
    "scrolled": true,
    "tags": []
   },
   "outputs": [],
   "source": [
    "for k, v in all_pdf_chunks['L Architetto dell Universo'].items():\n",
    "    print(\"key: \", k)\n",
    "    print(v)\n",
    "    print(\"------\\n\")"
   ]
  },
  {
   "cell_type": "code",
   "execution_count": null,
   "id": "4d694ce7-99f8-4b47-94c4-622e753df12b",
   "metadata": {},
   "outputs": [],
   "source": [
    "all_pdf_chunks['L Essenza di Asgard'].keys()"
   ]
  },
  {
   "cell_type": "code",
   "execution_count": null,
   "id": "126bf94d-3b52-42a8-b106-d2c0b8085d5d",
   "metadata": {},
   "outputs": [],
   "source": [
    "'quadrifonia cosmica: sinfonia di sapori e dimensioni'"
   ]
  },
  {
   "cell_type": "code",
   "execution_count": null,
   "id": "0a6d7647-9a52-48f9-98a2-b02cb78e0f34",
   "metadata": {
    "tags": []
   },
   "outputs": [],
   "source": [
    "mapping_name_found['L Essenza di Asgard']['Quadrifonia Cosmica: Sinfonia di Sapori e Dimensioni']"
   ]
  },
  {
   "cell_type": "raw",
   "id": "1077343d-2675-4387-8cdb-f5786854fc26",
   "metadata": {
    "tags": []
   },
   "source": [
    "with open(\"/Users/vanzettom/Documents/mattia/personale/hackapizza/data_preprocessed/all_pdf_chunks.json\", \"w\", encoding=\"utf-8\") as f:\n",
    "    json.dump(all_pdf_chunks, f, ensure_ascii=False, indent=4)"
   ]
  },
  {
   "cell_type": "raw",
   "id": "688256de-4135-48da-8c64-51328420dd8d",
   "metadata": {},
   "source": [
    "with open(\"/Users/vanzettom/Documents/mattia/personale/hackapizza/data_preprocessed/all_pdf_chunks.json\") as f:\n",
    "    all_pdf_chunks = json.load(f)  "
   ]
  },
  {
   "cell_type": "code",
   "execution_count": null,
   "id": "8e09ff8c-ba73-44ad-a988-b436b233733e",
   "metadata": {
    "tags": []
   },
   "outputs": [],
   "source": [
    "with open(\"/Users/vanzettom/Documents/mattia/personale/hackapizza/data_preprocessed/all_pdf_chunks.json\") as f:\n",
    "    all_pdf_chunks = json.load(f)"
   ]
  },
  {
   "cell_type": "markdown",
   "id": "fb2d4230-96fb-4f3e-9fe8-1b3af2a950ef",
   "metadata": {},
   "source": [
    "### Getting structured info from plate chunks"
   ]
  },
  {
   "cell_type": "markdown",
   "id": "88bb3106-f173-4c40-b972-6f7c9a962419",
   "metadata": {},
   "source": [
    "#### Get chef data"
   ]
  },
  {
   "cell_type": "code",
   "execution_count": null,
   "id": "dfda9fca-8652-4ee0-aa39-0d70e92a6574",
   "metadata": {
    "scrolled": true,
    "tags": []
   },
   "outputs": [],
   "source": [
    "all_pdf_chunks"
   ]
  },
  {
   "cell_type": "code",
   "execution_count": null,
   "id": "e0d84a30-034d-4155-9c58-a47e7e71ccaa",
   "metadata": {
    "tags": []
   },
   "outputs": [],
   "source": [
    "license_list = \"\"\"\n",
    "### Licenza Psionica (P):\n",
    "-Livello 0: Posseduta da tutti se non diversamente specificato. Tipica degli esseri senzienti.\n",
    "-Livello I: lettura pensiero, telecinesi e teletrasporto di oggetti di massa inferiore a 5 kg, precognizione e visione del passato fino a 5 minuti.\n",
    "-Livello II: manipolazione della probabilità, telecinesi e teletrasporto di oggetti di massa inferiore a 20 kg, manipolazione delle forze fondamentali dell’universo.\n",
    "-Livello III: capacità di donare la coscienza e l’intelletto ad oggetti, manipolazione della realtà circoscritta a stanze, teletrasporto senza errore in qualsiasi dimensione temporale, comunione con entità di altri piani.\n",
    "-Livello IV: proiezione astrale, riscrittura di realtà circoscritta a piccole nazioni o asteroidi.\n",
    "-Livello V: riscrittura di realtà di intere linee temporali o galassie. Questo livello è equivalente al Grado di influenza di livello tecnologico III (LTK III).\n",
    "\n",
    "### Licenza Temporale (t):\n",
    "-Livello I: effetti temporali relativi al presente come dilatazione o accelerazione del tempo.\n",
    "-Livello II: Livello I + effetti temporali che riguardano linee temporali future.\n",
    "-Livello III: Livello II + effetti temporali che riguardano linee temporali passate.\n",
    "\n",
    "### Licenza Gravitazionale (G):\n",
    "-Livello 0: 5 < G ≤ 10, posseduta da tutti se non diversamente specificato.\n",
    "-Livello I: 0 < G ≤ 100.\n",
    "-Livello II: 0 < G ≤ 10^6.\n",
    "-Livello III: G > 10^6.\n",
    "\n",
    "### Licenza Antimateria (e+):\n",
    "-Livello 0: particelle, posseduta da tutti se non diversamente specificato.\n",
    "-Livello I: antiparticelle.\n",
    "\n",
    "### Licenza Magnetica (Mx):\n",
    "-Livello 0: Polo nord e sud, posseduta da tutti se non diversamente specificato.\n",
    "-Livello I: Mono-polo.\n",
    "\n",
    "### Licenza Quantistica (Q):\n",
    "-Livello n: Numero di stati in superposizione dove n è il numero di stati.\n",
    "\n",
    "### Licenza Luce (c):\n",
    "-Livello I: Solo colori primari (RGB).\n",
    "-Livello II: Tutto lo spettro visibile umano.\n",
    "-Livello III: Tutte le frequenze.\n",
    "\n",
    "### Livello di Sviluppo Tecnologico (LTK):\n",
    "-Livello I: Planetario.\n",
    "-Livello II: Sistema Stellare.\n",
    "-Livello III: Galassia.\n",
    "-Livello IV: Superamasso di Galassie.\n",
    "-Livello V: Intero Universo.\n",
    "-Livello VI: Universi multipli.\n",
    "-Livello VI+: Tutte le fonti energia.\n",
    "\n",
    "\"\"\""
   ]
  },
  {
   "cell_type": "code",
   "execution_count": null,
   "id": "08a16bdf-8309-455e-875c-c7073881bbb6",
   "metadata": {
    "tags": []
   },
   "outputs": [],
   "source": [
    "with open(\"/Users/vanzettom/Documents/mattia/personale/hackapizza/data_preprocessed/license_list.json\", \"w\", encoding=\"utf-8\") as f:\n",
    "    json.dump(license_list, f, ensure_ascii=False, indent=4)"
   ]
  },
  {
   "cell_type": "code",
   "execution_count": null,
   "id": "1a9f2df8-63e5-4f60-81b6-ba4949041e56",
   "metadata": {
    "tags": []
   },
   "outputs": [],
   "source": [
    "client = OpenAI(\n",
    "  api_key=api_key\n",
    ")"
   ]
  },
  {
   "cell_type": "code",
   "execution_count": null,
   "id": "c1d30fa4-66a8-4bc1-9f66-be1f873b9cac",
   "metadata": {
    "tags": []
   },
   "outputs": [],
   "source": [
    "class ChefData(BaseModel):\n",
    "    chef_name: str\n",
    "    license_list: list[str]"
   ]
  },
  {
   "cell_type": "code",
   "execution_count": null,
   "id": "01f6e121-3a75-4e8c-b0d1-8c4918020627",
   "metadata": {
    "scrolled": true,
    "tags": []
   },
   "outputs": [],
   "source": [
    "chef_data_dict = {restaurant: dict() for restaurant in all_pdf_chunks.keys()}\n",
    "\n",
    "for i, (restaurant, menu_chunks_dict) in enumerate(all_pdf_chunks.items(), start=1):\n",
    "    print(f\"{i} - {restaurant}\")\n",
    "    \n",
    "    output = client.beta.chat.completions.parse(\n",
    "        model=\"gpt-4o\",\n",
    "        store=True,\n",
    "        messages=[\n",
    "            {\n",
    "                \"role\": \"system\",\n",
    "                \"content\": \"\"\"\n",
    "Sei un assistente che sta aiutando ad estrarre informazioni da alcuni menù di ristoranti scritti in italiano.\n",
    "I ristoranti descritti ed i piatti contenuti nei menù sono inventati e si trovano in una ambientazione fantascientifica nello spazio, in diversi sistemi solari.\n",
    "\"\"\"\n",
    "            },\n",
    "            {\n",
    "                \"role\": \"user\",\n",
    "                \"content\": f\"\"\"\n",
    "Il seguente frammento di testo, preso dal menù del ristorante, descrive un ristorante ed il suo chef.\n",
    "All'interno del testo sono riportati il nome dello chef e le licenze che possiede.\n",
    "Restituiscimi una classe python contenente un attributo riportante la stringa con il nome dello chef,\n",
    "ed un'attributo riportante la lista di stringhe relative alle licenze che possiede lo chef.\n",
    "\n",
    "Considera che le licenze che è possibile avere sono le seguenti:\n",
    "\n",
    "{license_list}\n",
    "\n",
    "Inoltre considera che se nel testo una licenza è riferita al ristorante la devi associare anch'essa allo chef.\n",
    "\n",
    "### FRAMMENTO DI MENU:\n",
    "{menu_chunks_dict['intro']}\n",
    "\"\"\"\n",
    "            }\n",
    "        ],\n",
    "        response_format=ChefData,\n",
    "    )\n",
    "    \n",
    "\n",
    "    chef_data_dict[restaurant]['chef_name'] = output.choices[0].message.parsed.chef_name\n",
    "    chef_data_dict[restaurant]['license_list'] = output.choices[0].message.parsed.license_list"
   ]
  },
  {
   "cell_type": "raw",
   "id": "c573acdf-8515-4b72-bd69-f0320484b261",
   "metadata": {
    "tags": []
   },
   "source": [
    "with open(\"/Users/vanzettom/Documents/mattia/personale/hackapizza/data_preprocessed/chef_data_dict.json\", \"w\", encoding=\"utf-8\") as f:\n",
    "    json.dump(chef_data_dict, f, ensure_ascii=False, indent=4)"
   ]
  },
  {
   "cell_type": "code",
   "execution_count": null,
   "id": "d578a34a-cffc-4571-822c-9872c50a8281",
   "metadata": {
    "tags": []
   },
   "outputs": [],
   "source": [
    "with open(\"/Users/vanzettom/Documents/mattia/personale/hackapizza/data_preprocessed/chef_data_dict.json\") as f:\n",
    "    chef_data_dict = json.load(f)  "
   ]
  },
  {
   "cell_type": "code",
   "execution_count": null,
   "id": "14307fc3-9d9b-43c4-9a66-785f76638b48",
   "metadata": {
    "scrolled": true,
    "tags": []
   },
   "outputs": [],
   "source": [
    "chef_data_dict"
   ]
  },
  {
   "cell_type": "code",
   "execution_count": null,
   "id": "75aa57ca-1883-41aa-aff7-677f98a2b9c1",
   "metadata": {
    "tags": []
   },
   "outputs": [],
   "source": [
    "chef_data_dict['Le Dimensioni del Gusto']"
   ]
  },
  {
   "cell_type": "markdown",
   "id": "aad63e20-c584-4071-bcd0-b8b80014ee62",
   "metadata": {},
   "source": [
    "#### license cleaning"
   ]
  },
  {
   "cell_type": "code",
   "execution_count": null,
   "id": "9ad88d1e-00d6-4a92-95f7-87548c9cb48a",
   "metadata": {
    "tags": []
   },
   "outputs": [],
   "source": [
    "chef_data_dict_clean = dict()\n",
    "\n",
    "for i, (restaurant, chef_data) in enumerate(chef_data_dict.items(), start=1):\n",
    "\n",
    "    print(f\"{i} - {restaurant}\")\n",
    "    \n",
    "    output = client.chat.completions.create(\n",
    "        model=\"gpt-4o\",\n",
    "        store=True,\n",
    "        messages=[\n",
    "            {\n",
    "                \"role\": \"system\",\n",
    "                \"content\": \"\"\"\n",
    "Sei un assistente che sta aiutando ad pulire e sistemare informazioni da dati relativi chef scritti in italiano.\n",
    "Il pezzo di testo che vedrai conterrà la lista di licenze possedute da uno specifico chef con il rispettivo livello.\n",
    "Le licenze potrebbero essere espresse sia con un'abbreviazione sia per intero, sia ad esempio per intero con l'abbreviazione tra parentesi\"\"\"\n",
    "            },\n",
    "            {\n",
    "                \"role\": \"user\",\n",
    "                \"content\": f\"\"\"\n",
    "Il seguente frammento di testo contiene la lista di licenze che uno chef possiede, con il rispettivo livello.\n",
    "Voglio che mi restituisci solo un dizionario python contenente tante chievi quante le licenze che lo chef possiede.\n",
    "Ogni chiave deve essere valorizzata con il nome della licenza espresso per intero e tra parentesi l'abbreviazione (es. \"Antimateria (e+)\", \"Livello di Sviluppo Tecnologico (LTK)\" ecc).\n",
    "Ogni valore deve essere valorizzato con un intero riportante il livello della licenza posseduta. \n",
    "Ad esempio se uno chef possiede le licenze \"licenza LTK III, e+ II\", la lista restituità sarà:\n",
    "[{{\"Livello di Sviluppo Tecnologico (LTK)\": 3}}, {{\"Antimateria (e+)\": 2}}]\n",
    "\n",
    "\n",
    "Considera che nella lista di licenze che ti mostrerò potrebbero esserci dei typo.\n",
    "Te devi correggerli mentre pulisci il dato e mi restituisci la lista che desidero.\n",
    "\n",
    "Di seguito trovi tutte le possibili licenze che uno chef può avere\n",
    "(se capisci che una licenza va assegnata di default ad uno chef ma non è riportata tra quelle che possiede, aggiungila tu): \n",
    "\n",
    "## LISTA DI TUTTE LE POSSIBILI LICENZE:\n",
    "{license_list}\n",
    "\n",
    "Inoltre considera che se nel testo una licenza è riferita al ristorante la devi associare anch'essa allo chef.\n",
    "\n",
    "### LICENZE POSSEDUTE DALLO CHEF:\n",
    "\n",
    "{chef_data_dict[restaurant]['license_list']}\n",
    "---\n",
    "\n",
    "Il tuo output deve contenere solamente la lista, senza nessun altro commento o virgolette, in modo che sia possibile fare eval direttamente sul tuo risultato.\n",
    "\"\"\"\n",
    "            }\n",
    "        ],\n",
    "    )\n",
    "    \n",
    "    chef_data_dict_clean[restaurant] = dict()\n",
    "    chef_data_dict_clean[restaurant]['chef_name'] = chef_data_dict[restaurant]['chef_name']\n",
    "    chef_data_dict_clean[restaurant]['license_list'] = output.choices[0].message.content"
   ]
  },
  {
   "cell_type": "raw",
   "id": "18a016cf-3381-4dd8-9d4d-101aa32f4517",
   "metadata": {
    "tags": []
   },
   "source": [
    "with open(\"/Users/vanzettom/Documents/mattia/personale/hackapizza/data_preprocessed/chef_data_dict_clean.json\", \"w\", encoding=\"utf-8\") as f:\n",
    "    json.dump(chef_data_dict_clean, f, ensure_ascii=False, indent=4)"
   ]
  },
  {
   "cell_type": "code",
   "execution_count": null,
   "id": "9079044a-647d-4e83-b8b5-017d0ce61b32",
   "metadata": {
    "tags": []
   },
   "outputs": [],
   "source": [
    "with open(\"/Users/vanzettom/Documents/mattia/personale/hackapizza/data_preprocessed/chef_data_dict_clean.json\") as f:\n",
    "    chef_data_dict_clean = json.load(f)  "
   ]
  },
  {
   "cell_type": "code",
   "execution_count": null,
   "id": "5f6c406d-8cd8-4adb-a656-71734969c100",
   "metadata": {
    "scrolled": true,
    "tags": []
   },
   "outputs": [],
   "source": [
    "chef_data_dict_clean"
   ]
  },
  {
   "cell_type": "raw",
   "id": "3223f519-e328-4136-8adc-0f9452ab438f",
   "metadata": {
    "tags": []
   },
   "source": [
    "[eval(chef_data_dict_clean[r]['license_list']) for r in chef_data_dict_clean]"
   ]
  },
  {
   "cell_type": "markdown",
   "id": "e977c608-40b4-47b4-a7f2-eb78f6c34f50",
   "metadata": {},
   "source": [
    "### Get restaurant location"
   ]
  },
  {
   "cell_type": "code",
   "execution_count": null,
   "id": "b3eacb28-57ad-4a2b-a45f-604d616e8d6a",
   "metadata": {
    "tags": []
   },
   "outputs": [],
   "source": [
    "distances = pd.read_csv('/Users/vanzettom/Documents/mattia/personale/hackapizza/Hackapizza Dataset/Misc/Distanze.csv')\n",
    "distances.shape"
   ]
  },
  {
   "cell_type": "code",
   "execution_count": null,
   "id": "b8dbe38a-786d-4627-b18b-634289f87e9e",
   "metadata": {
    "tags": []
   },
   "outputs": [],
   "source": [
    "planet_list = ['Tatooine', 'Asgard', 'Namecc', 'Arrakis', 'Krypton', 'Pandora', 'Cybertron', 'Ego', 'Montressosr', 'Klyntar']"
   ]
  },
  {
   "cell_type": "code",
   "execution_count": null,
   "id": "e51928a1-0281-4283-bcce-7c606ef9c5f5",
   "metadata": {
    "tags": []
   },
   "outputs": [],
   "source": [
    "planets = \"\"\"\n",
    "- Tatooine\n",
    "- Asgard\n",
    "- Namecc\n",
    "- Arrakis\n",
    "- Krypton\n",
    "- Pandora\n",
    "- Cybertron\n",
    "- Ego\n",
    "- Montressosr\n",
    "- Klyntar\n",
    "\"\"\""
   ]
  },
  {
   "cell_type": "code",
   "execution_count": null,
   "id": "6c31ff31-65d6-47f9-a65f-69bf433f5dea",
   "metadata": {
    "tags": []
   },
   "outputs": [],
   "source": [
    "class RestaurantLocation(BaseModel):\n",
    "    planet: str"
   ]
  },
  {
   "cell_type": "code",
   "execution_count": null,
   "id": "46927051-4f2e-484f-a684-0cada0cf7705",
   "metadata": {
    "scrolled": true,
    "tags": []
   },
   "outputs": [],
   "source": [
    "location_dict = {restaurant: \"\" for restaurant in all_pdf_chunks.keys()}\n",
    "\n",
    "for i, (restaurant, menu_chunks_dict) in enumerate(all_pdf_chunks.items(), start=1):\n",
    "    print(f\"{i} - {restaurant}\")\n",
    "    \n",
    "    output = client.beta.chat.completions.parse(\n",
    "        model=\"gpt-4o\",\n",
    "        store=True,\n",
    "        messages=[\n",
    "            {\n",
    "                \"role\": \"system\",\n",
    "                \"content\": \"\"\"\n",
    "Sei un assistente che sta aiutando ad estrarre informazioni da alcuni menù di ristoranti scritti in italiano.\n",
    "I ristoranti descritti ed i piatti contenuti nei menù sono inventati e si trovano in una ambientazione fantascientifica nello spazio, in diversi sistemi solari.\n",
    "\"\"\"\n",
    "            },\n",
    "            {\n",
    "                \"role\": \"user\",\n",
    "                \"content\": f\"\"\"\n",
    "Il seguente frammento di testo, preso dal menù del ristorante, descrive un ristorante ed il suo chef.\n",
    "All'interno del testo è riportato il pianeta su cui è localizzato il ristorante.\n",
    "Restituiscimi il pianeta in cui è presente il ristorante\n",
    "\n",
    "Considera che i pianeti possibili sono i seguenti:\n",
    "\n",
    "{planets}\n",
    "\n",
    "### FRAMMENTO DI MENU:\n",
    "{menu_chunks_dict['intro']}\n",
    "\"\"\"\n",
    "            }\n",
    "        ],\n",
    "        response_format=RestaurantLocation,\n",
    "    )\n",
    "    \n",
    "\n",
    "    location_dict[restaurant] = output.choices[0].message.parsed.planet"
   ]
  },
  {
   "cell_type": "code",
   "execution_count": null,
   "id": "a2f954ca-068a-418b-8e26-ba978c4cc33f",
   "metadata": {
    "scrolled": true,
    "tags": []
   },
   "outputs": [],
   "source": [
    "location_dict"
   ]
  },
  {
   "cell_type": "raw",
   "id": "065c25c4-84b3-4db5-a380-1b99be3c441c",
   "metadata": {
    "tags": []
   },
   "source": [
    "with open(\"/Users/vanzettom/Documents/mattia/personale/hackapizza/data_preprocessed/location_dict.json\", \"w\", encoding=\"utf-8\") as f:\n",
    "    json.dump(location_dict, f, ensure_ascii=False, indent=4)"
   ]
  },
  {
   "cell_type": "code",
   "execution_count": null,
   "id": "fbb425a8-d287-4f1e-9dee-2f1a1cd32b7e",
   "metadata": {
    "tags": []
   },
   "outputs": [],
   "source": [
    "with open(\"/Users/vanzettom/Documents/mattia/personale/hackapizza/data_preprocessed/location_dict.json\") as f:\n",
    "    location_dict = json.load(f)  "
   ]
  },
  {
   "cell_type": "markdown",
   "id": "d2b98b07-d4c8-4cc1-a881-1e7dcda69008",
   "metadata": {},
   "source": [
    "### get plates ingredients"
   ]
  },
  {
   "cell_type": "code",
   "execution_count": null,
   "id": "347fb1ce-70a2-45f6-96e2-363ef0b51b32",
   "metadata": {
    "tags": []
   },
   "outputs": [],
   "source": [
    "class PlateIngredients(BaseModel):\n",
    "    ingredients: list[str]"
   ]
  },
  {
   "cell_type": "code",
   "execution_count": null,
   "id": "61d882af-bdd9-40fe-bfc8-9979c0e22037",
   "metadata": {
    "scrolled": true,
    "tags": []
   },
   "outputs": [],
   "source": [
    "ingredient_dict = {restaurant: dict() for restaurant in all_pdf_chunks.keys()}\n",
    "\n",
    "for i, (restaurant, menu_chunks_dict) in enumerate(all_pdf_chunks.items(), start=1):\n",
    "    print(f\"{i} - {restaurant}\")\n",
    "    for dish, text in menu_chunks_dict.items():\n",
    "        if dish == 'intro':\n",
    "            continue\n",
    "        \n",
    "        output = client.beta.chat.completions.parse(\n",
    "        model=\"gpt-4o\",\n",
    "        store=True,\n",
    "        messages=[\n",
    "            {\n",
    "                \"role\": \"system\",\n",
    "                \"content\": \"\"\"\n",
    "Sei un assistente che sta aiutando ad estrarre informazioni da alcuni menù di ristoranti scritti in italiano.\n",
    "I ristoranti descritti ed i piatti contenuti nei menù sono inventati e si trovano in una ambientazione fantascientifica nello spazio, in diversi sistemi solari.\n",
    "\"\"\"\n",
    "            },\n",
    "            {\n",
    "                \"role\": \"user\",\n",
    "                \"content\": f\"\"\"\n",
    "Il seguente frammento di testo, preso dal menù del ristorante, descrive un piatto proposto dal ristorante.\n",
    "All'interno del testo sono riportati gli ingredienti che compongo il piatto.\n",
    "Restituiscimi una classe python contenente un attributo riportante la lista di stringhe relative agli ingredienti che compongono i piatti.\n",
    "Considera che il ristorante ed il piatto fanno parte di un'ambientazione fantascientifica quindi gli ingredienti sono spesso inventati e non realistici.\n",
    "\n",
    "\n",
    "### DESCRIZIONE DEL PIATTO:\n",
    "{menu_chunks_dict[dish]}\n",
    "\"\"\"\n",
    "            }\n",
    "        ],\n",
    "        response_format=PlateIngredients,\n",
    "    )\n",
    "    \n",
    "\n",
    "        ingredient_dict[restaurant][dish] = output.choices[0].message.parsed.ingredients"
   ]
  },
  {
   "cell_type": "code",
   "execution_count": null,
   "id": "c33f19fc-6638-489f-8f16-b788590dcec9",
   "metadata": {
    "scrolled": true,
    "tags": []
   },
   "outputs": [],
   "source": [
    "ingredient_dict"
   ]
  },
  {
   "cell_type": "raw",
   "id": "239028d8-1e09-469a-936b-286f0f9dc306",
   "metadata": {
    "tags": []
   },
   "source": [
    "with open(\"/Users/vanzettom/Documents/mattia/personale/hackapizza/data_preprocessed/ingredient_dict.json\", \"w\", encoding=\"utf-8\") as f:\n",
    "    json.dump(ingredient_dict, f, ensure_ascii=False, indent=4)"
   ]
  },
  {
   "cell_type": "code",
   "execution_count": null,
   "id": "68ffebf3-a011-4429-982b-cdbb74290935",
   "metadata": {
    "tags": []
   },
   "outputs": [],
   "source": [
    "with open(\"/Users/vanzettom/Documents/mattia/personale/hackapizza/data_preprocessed/ingredient_dict.json\") as f:\n",
    "    ingredient_dict = json.load(f)  "
   ]
  },
  {
   "cell_type": "markdown",
   "id": "e36ced08-67ec-4d9c-88f1-e91436c87eb0",
   "metadata": {},
   "source": [
    "### get tecniques from Sirius Cosmo's manual"
   ]
  },
  {
   "cell_type": "code",
   "execution_count": null,
   "id": "12525553-0c08-4a39-b2b3-16404e539331",
   "metadata": {
    "tags": []
   },
   "outputs": [],
   "source": [
    "file_path = '/Users/vanzettom/Documents/mattia/personale/hackapizza/Hackapizza Dataset/Misc/Manuale di Cucina.pdf'\n",
    "\n",
    "doc = fitz.open(file_path)\n",
    "text = \"\\n\".join([page.get_text(\"text\") for page in doc])\n",
    "doc.close()"
   ]
  },
  {
   "cell_type": "code",
   "execution_count": null,
   "id": "b56969c9-d17a-4e8d-ac6a-79e6438363eb",
   "metadata": {
    "tags": []
   },
   "outputs": [],
   "source": [
    "row_list = [l for l in text.split(\"\\n\") if l != \"\"]\n",
    "rows = (pd.Series(row_list))"
   ]
  },
  {
   "cell_type": "code",
   "execution_count": null,
   "id": "d3c76114-98c7-499a-9b9b-e6241f1ad940",
   "metadata": {
    "tags": []
   },
   "outputs": [],
   "source": [
    "list_id_p_1 = list(rows[rows.apply(lambda x: x.lower().startswith('come funziona'))].index)"
   ]
  },
  {
   "cell_type": "code",
   "execution_count": null,
   "id": "1f7287c4-0ee3-45c3-bd96-4b5cea11ba78",
   "metadata": {
    "scrolled": true,
    "tags": []
   },
   "outputs": [],
   "source": [
    "sc_tecnique_list = [row_list[i] for i in [x-1 for x in list_id_p_1]]\n",
    "len(tecnique_list)"
   ]
  },
  {
   "cell_type": "raw",
   "id": "faafc4fb-4ac9-4472-a6d4-992a1cf4a5d9",
   "metadata": {
    "tags": []
   },
   "source": [
    "with open(\"/Users/vanzettom/Documents/mattia/personale/hackapizza/data_preprocessed/sc_tecnique_list.json\", \"w\", encoding=\"utf-8\") as f:\n",
    "    json.dump(sc_tecnique_list, f, ensure_ascii=False, indent=4)"
   ]
  },
  {
   "cell_type": "code",
   "execution_count": null,
   "id": "34033a05-6504-46d9-a2ba-bd6a50f487c3",
   "metadata": {
    "tags": []
   },
   "outputs": [],
   "source": [
    "with open(\"/Users/vanzettom/Documents/mattia/personale/hackapizza/data_preprocessed/sc_tecnique_list.json\") as f:\n",
    "    sc_tecnique_list = json.load(f)  "
   ]
  },
  {
   "cell_type": "code",
   "execution_count": null,
   "id": "d3c68ab0-77bd-4090-9dfa-dd07cd34b13f",
   "metadata": {
    "tags": []
   },
   "outputs": [],
   "source": [
    "\", \".join(sc_tecnique_list) + \".\""
   ]
  },
  {
   "cell_type": "code",
   "execution_count": null,
   "id": "cda135fd-e6c2-40d6-ac1a-38f2c718f85a",
   "metadata": {
    "tags": []
   },
   "outputs": [],
   "source": [
    "sc_tecnique_dict = {\n",
    "    \"Tecniche di Preparazione\": {\n",
    "        \"Tecniche di Marinatura\":\n",
    "            ['Marinatura a Infusione Gravitazionale',\n",
    "            'Marinatura Temporale Sincronizzata',\n",
    "            'Marinatura Psionica',\n",
    "            \"Marinatura tramite Reazioni d'Antimateria Diluite\",\n",
    "            'Marinatura Sotto Zero a Polarità Inversa'],\n",
    "        \"Tecniche di Affumicatura\":\n",
    "            ['Affumicatura a Stratificazione Quantica',\n",
    "            'Affumicatura Temporale Risonante',\n",
    "            'Affumicatura Psionica Sensoriale',\n",
    "            'Affumicatura tramite Big Bang Microcosmico',\n",
    "            'Affumicatura Polarizzata a Freddo Iperbarico',],\n",
    "        \"Tecniche di Fermentazione\":\n",
    "            ['Fermentazione Quantica a Strati Multiversali',\n",
    "            'Fermentazione Temporale Sincronizzata',\n",
    "            'Fermentazione Psionica Energetica',\n",
    "            'Fermentazione tramite Singolarità',\n",
    "            'Fermentazione Quantico Biometrica',],\n",
    "        \"Tecniche di Impasto\": [\n",
    "            'Impasto Gravitazionale Vorticoso',\n",
    "            'Amalgamazione Sintetica Molecolare',\n",
    "            'Impasto a Campi Magnetici Dualistici',\n",
    "            'Sinergia Elettro-Osmotica Programmabile',\n",
    "            'Modellatura Onirica Tetrazionale'],\n",
    "        \"tecniche di Surgelamento\": [\n",
    "            'Cryo-Tessitura Energetica Polarizzata',\n",
    "            'Congelamento Bio-Luminiscente Sincronico',\n",
    "            'Cristallizzazione Temporale Reversiva',\n",
    "            'Congelazione Iperdimensionalmente Stratificata',\n",
    "            'Surgelamento Antimaterico a Risonanza Inversa',],\n",
    "        },\n",
    "    \"Tecniche di Cottura\": {\n",
    "        \"Tecniche di Bollitura\":\n",
    "            ['Ebollizione Magneto-Cinetica Pulsante',\n",
    "            'Bollitura Infrasonica Armonizzata',\n",
    "            'Bollitura Termografica a Rotazione Veloce',\n",
    "            'Bollitura Entropica Sincronizzata',\n",
    "            'Idro-Cristallizzazione Sonora Quantistica',],\n",
    "        \"Tecniche di Grigliatura\": [\n",
    "            'Grigliatura a Energia Stellare DiV',\n",
    "            'Grigliatura Plasma Sintetico Risonante',\n",
    "            'Grigliatura Eletro-Molecolare a Spaziatura Variabile',\n",
    "            'Grigliatura Tachionica Refrattaria',\n",
    "            'Grigliatura Psionica Dinamica Ritmica',],\n",
    "        \"Tecniche di cottura al Forno\":[\n",
    "            'Cottura al Forno con Paradosso Temporale Cronospeculare',\n",
    "            'Cottura al Forno con Paradosso Temporale Cronospeculare',\n",
    "            'Cottura con Microonde Entropiche Sincronizzate',\n",
    "            'Cottura a Forno Dinamico Inversionale',\n",
    "            'Cottura Olografica Quantum Fluttuante',\n",
    "            'Cottura Geomagnetica Psicosincronizzata',],\n",
    "        \"Tecniche di cottura al Vapore\":[\n",
    "            'Cottura a Vapore con Flusso di Particelle Isoarmoniche',\n",
    "            'Cottura a Vapore Ecodinamico Bilanciato',\n",
    "            'Cottura a Vapore Risonante Simbiotico',\n",
    "            'Cottura a Vapore Termocinetica Multipla',\n",
    "            'Cottura Idrodinamica Autoregolante',],\n",
    "        \"Tecniche di cottura Sottovuoto\": [\n",
    "            'Cottura Sottovuoto Antimateria',\n",
    "            'Cottura Sottovuoto Multirealità Collassante',\n",
    "            'Cottura Sottovuoto Frugale Energeticamente Negativa',\n",
    "            'Cottura Sottovuoto Pulsar Magnetica',\n",
    "            'Cottura Sottovuoto Bioma Sintetico',],\n",
    "        \"Tecniche di Saltare in Padella\": [\n",
    "            'Saltare in Padella Big Bang Termico',\n",
    "            'Saltare in Padella Realtà Energetiche Parallele',\n",
    "            'Saltare in Padella Singolarità Inversa',\n",
    "            'Saltare in Padella Sinergia Psionica',\n",
    "            'Saltare in Padella Classica',]\n",
    "},\n",
    "    \"Tecniche Avanzate\": {\n",
    "        \"Tecniche di Decostruzione\": [\n",
    "            'Decostruzione Atomica a Strati Energetici',\n",
    "            'Decostruzione Magnetica Risonante',\n",
    "            'Decostruzione Bio-Fotonica Emotiva',\n",
    "            'Decostruzione Ancestrale',\n",
    "            'Decostruzione Interdimensionale Lovecraftiana',],\n",
    "        \"Tecniche di Sferificazione\": [\n",
    "            'Sferificazione a Gravità Psionica Variabile',\n",
    "            'Sferificazione Filamentare a Molecole Vibrazionali',\n",
    "            'Sferificazione Cromatica Interdimensionale',\n",
    "            'Sferificazione con Campi Magnetici Entropici',\n",
    "            'Sferificazione tramite Matrici Biofotiche',],\n",
    "        \"Tecniche di Taglio\": [\n",
    "            'Taglio Dimensionale a Lame Fotofiliche',\n",
    "            'Taglio a Risonanza Sonica Rigenerativa',\n",
    "            'Affettamento a Pulsazioni Quantistiche',\n",
    "            'Taglio Sinaptico Biomimetico',\n",
    "            'Incisione Elettromagnetica Plasmica']\n",
    "    }\n",
    "}"
   ]
  },
  {
   "cell_type": "markdown",
   "id": "c885f50e-4d8b-4664-bc71-fc5e0b99b232",
   "metadata": {},
   "source": [
    "### get plates tecniques"
   ]
  },
  {
   "cell_type": "code",
   "execution_count": null,
   "id": "a714a659-c949-41c4-a90f-2a8d4d777827",
   "metadata": {
    "tags": []
   },
   "outputs": [],
   "source": [
    "class PlateTecniques(BaseModel):\n",
    "    tecniques: list[str]"
   ]
  },
  {
   "cell_type": "code",
   "execution_count": null,
   "id": "4fcfd2e5-f01a-4ed3-8e1b-3cc9f715bb20",
   "metadata": {
    "scrolled": true,
    "tags": []
   },
   "outputs": [],
   "source": [
    "tecnique_dict = {restaurant: dict() for restaurant in all_pdf_chunks.keys()}\n",
    "\n",
    "for i, (restaurant, menu_chunks_dict) in enumerate(all_pdf_chunks.items(), start=1):\n",
    "    print(f\"{i} - {restaurant}\")\n",
    "    for dish, text in menu_chunks_dict.items():\n",
    "        if dish == 'intro':\n",
    "            continue\n",
    "        \n",
    "        output = client.beta.chat.completions.parse(\n",
    "        model=\"gpt-4o\",\n",
    "        store=True,\n",
    "        messages=[\n",
    "            {\n",
    "                \"role\": \"system\",\n",
    "                \"content\": \"\"\"\n",
    "Sei un assistente che sta aiutando ad estrarre informazioni da alcuni menù di ristoranti scritti in italiano.\n",
    "I ristoranti descritti ed i piatti contenuti nei menù sono inventati e si trovano in una ambientazione fantascientifica nello spazio, in diversi sistemi solari.\n",
    "\"\"\"\n",
    "            },\n",
    "            {\n",
    "                \"role\": \"user\",\n",
    "                \"content\": f\"\"\"\n",
    "Il seguente frammento di testo, preso dal menù del ristorante, descrive un piatto proposto dal ristorante.\n",
    "All'interno del testo sono riportati le tecniche utilizzate per preparare il piatto.\n",
    "Restituiscimi una classe python contenente un attributo riportante la lista di stringhe relative alle tecniche che è necessario usare per preparare i piatti.\n",
    "Considera che il ristorante ed il piatto fanno parte di un'ambientazione fantascientifica quindi le tecniche sono spesso inventate e non realistice.\n",
    "\n",
    "Questa è una lista **non esaustiva** che contiene esempi di tecniche che potrebbero essere utilizzate per preparare un piatto: \n",
    "{\", \".join(tecnique_list) + \".\"}\n",
    "\n",
    "### DESCRIZIONE DEL PIATTO:\n",
    "{menu_chunks_dict[dish]}\n",
    "\"\"\"\n",
    "            }\n",
    "        ],\n",
    "        response_format=PlateTecniques,\n",
    "    )\n",
    "    \n",
    "\n",
    "        tecnique_dict[restaurant][dish] = output.choices[0].message.parsed.tecniques"
   ]
  },
  {
   "cell_type": "code",
   "execution_count": null,
   "id": "ca098b06-1f31-46d9-a16f-780082da5fbe",
   "metadata": {
    "scrolled": true,
    "tags": []
   },
   "outputs": [],
   "source": [
    "tecnique_dict"
   ]
  },
  {
   "cell_type": "raw",
   "id": "539fa7e2-2c9b-44d5-bb5f-d1523a6d6290",
   "metadata": {
    "tags": []
   },
   "source": [
    "with open(\"/Users/vanzettom/Documents/mattia/personale/hackapizza/data_preprocessed/tecnique_dict.json\", \"w\", encoding=\"utf-8\") as f:\n",
    "    json.dump(tecnique_dict, f, ensure_ascii=False, indent=4)"
   ]
  },
  {
   "cell_type": "code",
   "execution_count": null,
   "id": "40518a27-e1e5-4286-b43d-adfa8d548388",
   "metadata": {
    "tags": []
   },
   "outputs": [],
   "source": [
    "with open(\"/Users/vanzettom/Documents/mattia/personale/hackapizza/data_preprocessed/tecnique_dict.json\") as f:\n",
    "    tecnique_dict = json.load(f)  "
   ]
  },
  {
   "cell_type": "markdown",
   "id": "6d31ef22-3bf2-4dc1-b9f0-be5ab934352a",
   "metadata": {},
   "source": [
    "### Create list of tecniques from Sirius Cosmo's manual needed for every plate"
   ]
  },
  {
   "cell_type": "code",
   "execution_count": null,
   "id": "9f28d136-f986-4f68-ab8c-682a200eba61",
   "metadata": {
    "scrolled": true,
    "tags": []
   },
   "outputs": [],
   "source": [
    "tecnique_sc_dict = {restaurant: dict() for restaurant in all_pdf_chunks.keys()}\n",
    "\n",
    "max_distance = 5\n",
    "\n",
    "for i, (restaurant, plate_tecniques_dict) in enumerate(tecnique_dict.items(), start=1):\n",
    "    print(f\"{i} - {restaurant}\")\n",
    "    for plate, tecnique_list in plate_tecniques_dict.items():\n",
    "        tecnique_sc_dict[restaurant][plate] = list()\n",
    "        for tecnique_used in tecnique_list:\n",
    "            if any([Levenshtein.distance(tecnique_used.strip().lower(), sc_tecnique.lower()) <= max_distance for sc_tecnique in sc_tecnique_list]):\n",
    "                tecnique_sc_dict[restaurant][plate].append(tecnique_used)"
   ]
  },
  {
   "cell_type": "code",
   "execution_count": null,
   "id": "4ea192f1-7183-49cf-bfb6-feda9b83b79b",
   "metadata": {
    "scrolled": true,
    "tags": []
   },
   "outputs": [],
   "source": [
    "sc_tecnique_dict"
   ]
  },
  {
   "cell_type": "code",
   "execution_count": null,
   "id": "ef474a7f-8a4e-46ca-b16f-973e95d3e772",
   "metadata": {
    "scrolled": true,
    "tags": []
   },
   "outputs": [],
   "source": [
    "plate_tecnique_sc_dict = {restaurant: dict() for restaurant in all_pdf_chunks.keys()}\n",
    "\n",
    "max_distance = 7\n",
    "\n",
    "for i, (restaurant, plate_tecniques_dict) in enumerate(tecnique_dict.items(), start=1):\n",
    "    print(f\"{i} - {restaurant}\")\n",
    "    \n",
    "    for plate, tecnique_list in plate_tecniques_dict.items():\n",
    "        plate_tecnique_sc_dict[restaurant][plate] = dict()\n",
    "        # qui ho piatto e lista di tecniche che usa\n",
    "        \n",
    "        for tecnique_category, d_tecnique_category in sc_tecnique_dict.items():\n",
    "            plate_tecnique_sc_dict[restaurant][plate][tecnique_category] = dict()\n",
    "            \n",
    "            for sub_tecnique_category, list_sub_tecniques in d_tecnique_category.items():\n",
    "                plate_tecnique_sc_dict[restaurant][plate][tecnique_category][sub_tecnique_category] = [\n",
    "                    sc_tecnique for sc_tecnique in list_sub_tecniques\n",
    "                    if any([Levenshtein.distance(t.strip().lower(), sc_tecnique.lower()) <= max_distance for t in tecnique_list])\n",
    "                ]"
   ]
  },
  {
   "cell_type": "code",
   "execution_count": null,
   "id": "153cbe9e-2acf-43d1-ae69-a3ae84271681",
   "metadata": {
    "scrolled": true,
    "tags": []
   },
   "outputs": [],
   "source": [
    "plate_tecnique_sc_dict"
   ]
  },
  {
   "cell_type": "raw",
   "id": "007d6d51-93d8-48bf-9974-9c2425d1f8a8",
   "metadata": {
    "tags": []
   },
   "source": [
    "with open(\"/Users/vanzettom/Documents/mattia/personale/hackapizza/data_preprocessed/plate_tecnique_sc_dict.json\", \"w\", encoding=\"utf-8\") as f:\n",
    "    json.dump(plate_tecnique_sc_dict, f, ensure_ascii=False, indent=4)"
   ]
  },
  {
   "cell_type": "code",
   "execution_count": null,
   "id": "e3ca6ba2-28c7-4b5f-ad22-fc9013078d60",
   "metadata": {},
   "outputs": [],
   "source": [
    "with open(\"/Users/vanzettom/Documents/mattia/personale/hackapizza/data_preprocessed/plate_tecnique_sc_dict.json\") as f:\n",
    "    plate_tecnique_sc_dict = json.load(f)  "
   ]
  },
  {
   "cell_type": "code",
   "execution_count": null,
   "id": "986e0357-d102-4484-b2dd-d2b05421a8ee",
   "metadata": {},
   "outputs": [],
   "source": []
  },
  {
   "cell_type": "markdown",
   "id": "7ccf60fe-c2ff-454c-b75b-3d668a3c60fd",
   "metadata": {},
   "source": [
    "### Insert which lincenses are needed to do specific tecniques\n",
    "\n",
    "I used Claude app to produce the following dictionary:"
   ]
  },
  {
   "cell_type": "code",
   "execution_count": null,
   "id": "c5b9275e-3162-4efd-958b-f8782f9e0ed3",
   "metadata": {
    "tags": []
   },
   "outputs": [],
   "source": [
    "licenses_needed_by_tecnique_dict = {\n",
    "    \"Tecniche di Preparazione\": {\n",
    "        \"Tecniche di Marinatura\": {\n",
    "            'Marinatura a Infusione Gravitazionale': [\n",
    "                {\"Licenza Gravitazionale (G)\": 2}\n",
    "            ],\n",
    "            'Marinatura Temporale Sincronizzata': [\n",
    "                {\"Licenza Temporale (t)\": 1}\n",
    "            ],\n",
    "            'Marinatura Psionica': [\n",
    "                {\"Licenza Psionica (P)\": 3}\n",
    "            ],\n",
    "            \"Marinatura tramite Reazioni d'Antimateria Diluite\": [\n",
    "                {\"Licenza Antimateria (e+)\": 1}\n",
    "            ],\n",
    "            'Marinatura Sotto Zero a Polarità Inversa': [\n",
    "                {\"Licenza Magnetica (Mx)\": 1},\n",
    "                {\"Livello di Sviluppo Tecnologico (LTK)\": 2}\n",
    "            ]\n",
    "        },\n",
    "        \"Tecniche di Affumicatura\": {\n",
    "            'Affumicatura a Stratificazione Quantica': [\n",
    "                {\"Licenza Quantistica (Q)\": 3},\n",
    "                {\"Livello di Sviluppo Tecnologico (LTK)\": 2}\n",
    "            ],\n",
    "            'Affumicatura Temporale Risonante': [\n",
    "                {\"Licenza Temporale (t)\": 1},\n",
    "                {\"Livello di Sviluppo Tecnologico (LTK)\": 2}\n",
    "            ],\n",
    "            'Affumicatura Psionica Sensoriale': [\n",
    "                {\"Licenza Psionica (P)\": 2},\n",
    "                {\"Livello di Sviluppo Tecnologico (LTK)\": 3}\n",
    "            ],\n",
    "            'Affumicatura tramite Big Bang Microcosmico': [\n",
    "                {\"Licenza Antimateria (e+)\": 1},\n",
    "                {\"Licenza Quantistica (Q)\": 10},\n",
    "                {\"Livello di Sviluppo Tecnologico (LTK)\": 3}\n",
    "            ],\n",
    "            'Affumicatura Polarizzata a Freddo Iperbarico': [\n",
    "                {\"Licenza Magnetica (Mx)\": 1},\n",
    "                {\"Livello di Sviluppo Tecnologico (LTK)\": 2}\n",
    "            ]\n",
    "        },\n",
    "        \"Tecniche di Fermentazione\": {\n",
    "            'Fermentazione Quantica a Strati Multiversali': [\n",
    "                {\"Licenza Quantistica (Q)\": 5},\n",
    "                {\"Livello di Sviluppo Tecnologico (LTK)\": 6}\n",
    "            ],\n",
    "            'Fermentazione Temporale Sincronizzata': [\n",
    "                {\"Licenza Temporale (t)\": 3},\n",
    "                {\"Livello di Sviluppo Tecnologico (LTK)\": 3}\n",
    "            ],\n",
    "            'Fermentazione Psionica Energetica': [\n",
    "                {\"Licenza Psionica (P)\": 1},\n",
    "                {\"Livello di Sviluppo Tecnologico (LTK)\": 3}\n",
    "            ],\n",
    "            'Fermentazione tramite Singolarità': [\n",
    "                {\"Licenza Gravitazionale (G)\": 3},\n",
    "                {\"Licenza Antimateria (e+)\": 1},\n",
    "                {\"Licenza Magnetica (Mx)\": 1},\n",
    "                {\"Livello di Sviluppo Tecnologico (LTK)\": 4}\n",
    "            ],\n",
    "            'Fermentazione Quantico Biometrica': [\n",
    "                {\"Licenza Quantistica (Q)\": 3},\n",
    "                {\"Livello di Sviluppo Tecnologico (LTK)\": 2}\n",
    "            ]\n",
    "        },\n",
    "        \"Tecniche di Impasto\": {\n",
    "            'Impasto Gravitazionale Vorticoso': [\n",
    "                {\"Licenza Gravitazionale (G)\": 1}\n",
    "            ],\n",
    "            'Amalgamazione Sintetica Molecolare': [\n",
    "                {\"Licenza Quantistica (Q)\": 3}\n",
    "            ],\n",
    "            'Impasto a Campi Magnetici Dualistici': [\n",
    "                {\"Licenza Magnetica (Mx)\": 1}\n",
    "            ],\n",
    "            'Sinergia Elettro-Osmotica Programmabile': [\n",
    "                {\"Licenza Antimateria (e+)\": 1}\n",
    "            ],\n",
    "            'Modellatura Onirica Tetrazionale': [\n",
    "                {\"Licenza Psionica (P)\": 4},\n",
    "                {\"Licenza Quantistica (Q)\": 4},\n",
    "                {\"Livello di Sviluppo Tecnologico (LTK)\": 4}\n",
    "            ]\n",
    "        },\n",
    "        \"tecniche di Surgelamento\": {\n",
    "            'Cryo-Tessitura Energetica Polarizzata': [\n",
    "                {\"Licenza Antimateria (e+)\": 1}\n",
    "            ],\n",
    "            'Congelamento Bio-Luminiscente Sincronico': [\n",
    "                {\"Licenza Luce (c)\": 2},\n",
    "                {\"Livello di Sviluppo Tecnologico (LTK)\": 2}\n",
    "            ],\n",
    "            'Cristallizzazione Temporale Reversiva': [\n",
    "                {\"Licenza Temporale (t)\": 3},\n",
    "                {\"Livello di Sviluppo Tecnologico (LTK)\": 3}\n",
    "            ],\n",
    "            'Congelazione Iperdimensionalmente Stratificata': [\n",
    "                {\"Licenza Quantistica (Q)\": 5},\n",
    "                {\"Livello di Sviluppo Tecnologico (LTK)\": 4}\n",
    "            ],\n",
    "            'Surgelamento Antimaterico a Risonanza Inversa': [\n",
    "                {\"Licenza Antimateria (e+)\": 1},\n",
    "                {\"Licenza Magnetica (Mx)\": 1},\n",
    "                {\"Licenza Quantistica (Q)\": 3},\n",
    "                {\"Livello di Sviluppo Tecnologico (LTK)\": 3}\n",
    "            ]\n",
    "        }\n",
    "    },\n",
    "    \"Tecniche di Cottura\": {\n",
    "        \"Tecniche di Bollitura\": {\n",
    "            'Ebollizione Magneto-Cinetica Pulsante': [\n",
    "                {\"Licenza Magnetica (Mx)\": 1}\n",
    "            ],\n",
    "            'Bollitura Infrasonica Armonizzata': [\n",
    "                {\"Licenza Quantistica (Q)\": 3}\n",
    "            ],\n",
    "            'Bollitura Termografica a Rotazione Veloce': [\n",
    "                {\"Licenza Luce (c)\": 1}\n",
    "            ],\n",
    "            'Bollitura Entropica Sincronizzata': [\n",
    "                {\"Licenza Quantistica (Q)\": 4},\n",
    "                {\"Livello di Sviluppo Tecnologico (LTK)\": 3}\n",
    "            ],\n",
    "            'Idro-Cristallizzazione Sonora Quantistica': [\n",
    "                {\"Licenza Quantistica (Q)\": 5},\n",
    "                {\"Livello di Sviluppo Tecnologico (LTK)\": 3}\n",
    "            ]\n",
    "        },\n",
    "        \"Tecniche di Grigliatura\": {\n",
    "            'Grigliatura a Energia Stellare DiV': [\n",
    "                {\"Licenza Luce (c)\": 3},\n",
    "                {\"Livello di Sviluppo Tecnologico (LTK)\": 2}\n",
    "            ],\n",
    "            'Grigliatura Plasma Sintetico Risonante': [\n",
    "                {\"Licenza Antimateria (e+)\": 1},\n",
    "                {\"Licenza Magnetica (Mx)\": 1},\n",
    "                {\"Livello di Sviluppo Tecnologico (LTK)\": 3}\n",
    "            ],\n",
    "            'Grigliatura Eletro-Molecolare a Spaziatura Variabile': [\n",
    "                {\"Licenza Quantistica (Q)\": 3}\n",
    "            ],\n",
    "            'Grigliatura Tachionica Refrattaria': [\n",
    "                {\"Licenza Temporale (t)\": 2},\n",
    "                {\"Licenza Luce (c)\": 3},\n",
    "                {\"Livello di Sviluppo Tecnologico (LTK)\": 5}\n",
    "            ],\n",
    "            'Grigliatura Psionica Dinamica Ritmica': [\n",
    "                {\"Licenza Psionica (P)\": 3},\n",
    "                {\"Livello di Sviluppo Tecnologico (LTK)\": 3}\n",
    "            ]\n",
    "        },\n",
    "        \"Tecniche di cottura al Forno\": {\n",
    "            'Cottura al Forno con Paradosso Temporale Cronospeculare': [\n",
    "                {\"Licenza Temporale (t)\": 3},\n",
    "                {\"Licenza Quantistica (Q)\": 1},\n",
    "                {\"Livello di Sviluppo Tecnologico (LTK)\": 3}\n",
    "            ],\n",
    "            'Cottura con Microonde Entropiche Sincronizzate': [\n",
    "                {\"Licenza Quantistica (Q)\": 4}\n",
    "            ],\n",
    "            'Cottura a Forno Dinamico Inversionale': [\n",
    "                {\"Licenza Antimateria (e+)\": 1}\n",
    "            ],\n",
    "            'Cottura Olografica Quantum Fluttuante': [\n",
    "                {\"Licenza Quantistica (Q)\": 5},\n",
    "                {\"Livello di Sviluppo Tecnologico (LTK)\": 3}\n",
    "            ],\n",
    "            'Cottura Geomagnetica Psicosincronizzata': [\n",
    "                {\"Licenza Psionica (P)\": 5},\n",
    "                {\"Licenza Magnetica (Mx)\": 1},\n",
    "                {\"Livello di Sviluppo Tecnologico (LTK)\": 4}\n",
    "            ]\n",
    "        },\n",
    "        \"Tecniche di cottura al Vapore\": {\n",
    "            'Cottura a Vapore con Flusso di Particelle Isoarmoniche': [],\n",
    "            'Cottura a Vapore Ecodinamico Bilanciato': [],\n",
    "            'Cottura a Vapore Risonante Simbiotico': [\n",
    "                {\"Licenza Psionica (P)\": 3},\n",
    "                {\"Livello di Sviluppo Tecnologico (LTK)\": 3}\n",
    "            ],\n",
    "            'Cottura a Vapore Termocinetica Multipla': [],\n",
    "            'Cottura Idrodinamica Autoregolante': [\n",
    "                {\"Licenza Antimateria (e+)\": 1},\n",
    "                {\"Livello di Sviluppo Tecnologico (LTK)\": 2}\n",
    "            ]\n",
    "        },\n",
    "        \"Tecniche di cottura Sottovuoto\": {\n",
    "            'Cottura Sottovuoto Antimateria': [\n",
    "                {\"Licenza Gravitazionale (G)\": 1},\n",
    "                {\"Licenza Antimateria (e+)\": 1},\n",
    "                {\"Livello di Sviluppo Tecnologico (LTK)\": 3}\n",
    "            ],\n",
    "            'Cottura Sottovuoto Multirealità Collassante': [\n",
    "                {\"Licenza Gravitazionale (G)\": 1},\n",
    "                {\"Licenza Quantistica (Q)\": 5},\n",
    "                {\"Livello di Sviluppo Tecnologico (LTK)\": 6}\n",
    "            ],\n",
    "            'Cottura Sottovuoto Frugale Energeticamente Negativa': [\n",
    "                {\"Licenza Gravitazionale (G)\": 1},\n",
    "                {\"Licenza Quantistica (Q)\": 3},\n",
    "                {\"Livello di Sviluppo Tecnologico (LTK)\": 2}\n",
    "            ],\n",
    "            'Cottura Sottovuoto Pulsar Magnetica': [\n",
    "                {\"Licenza Gravitazionale (G)\": 1},\n",
    "                {\"Licenza Magnetica (Mx)\": 1},\n",
    "                {\"Livello di Sviluppo Tecnologico (LTK)\": 3}\n",
    "            ],\n",
    "            'Cottura Sottovuoto Bioma Sintetico': [\n",
    "                {\"Licenza Psionica (P)\": 2},\n",
    "                {\"Licenza Gravitazionale (G)\": 1},\n",
    "                {\"Livello di Sviluppo Tecnologico (LTK)\": 3}\n",
    "            ]\n",
    "        },\n",
    "        \"Tecniche di Saltare in Padella\": {\n",
    "            'Saltare in Padella Big Bang Termico': [\n",
    "                {\"Licenza Gravitazionale (G)\": 3},\n",
    "                {\"Licenza Antimateria (e+)\": 1},\n",
    "                {\"Livello di Sviluppo Tecnologico (LTK)\": 5}\n",
    "            ],\n",
    "            'Saltare in Padella Realtà Energetiche Parallele': [\n",
    "                {\"Licenza Quantistica (Q)\": 6},\n",
    "                {\"Livello di Sviluppo Tecnologico (LTK)\": 4}\n",
    "            ],\n",
    "            'Saltare in Padella Singolarità Inversa': [\n",
    "                {\"Licenza Gravitazionale (G)\": 3},\n",
    "                {\"Licenza Antimateria (e+)\": 1},\n",
    "                {\"Livello di Sviluppo Tecnologico (LTK)\": 4}\n",
    "            ],\n",
    "            'Saltare in Padella Sinergia Psionica': [\n",
    "                {\"Licenza Psionica (P)\": 5},\n",
    "                {\"Livello di Sviluppo Tecnologico (LTK)\": 3}\n",
    "            ],\n",
    "            'Saltare in Padella Classica': []\n",
    "        }\n",
    "    },\n",
    "    \"Tecniche Avanzate\": {\n",
    "        \"Tecniche di Decostruzione\": {\n",
    "            'Decostruzione Atomica a Strati Energetici': [\n",
    "                {\"Licenza Antimateria (e+)\": 1},\n",
    "                {\"Licenza Quantistica (Q)\": 1},\n",
    "                {\"Livello di Sviluppo Tecnologico (LTK)\": 2}\n",
    "            ],\n",
    "            'Decostruzione Magnetica Risonante': [\n",
    "                {\"Licenza Magnetica (Mx)\": 1},\n",
    "                {\"Livello di Sviluppo Tecnologico (LTK)\": 2}\n",
    "            ],\n",
    "            'Decostruzione Bio-Fotonica Emotiva': [\n",
    "                {\"Licenza Psionica (P)\": 3},\n",
    "                {\"Licenza Luce (c)\": 3},\n",
    "                {\"Livello di Sviluppo Tecnologico (LTK)\": 2}\n",
    "            ],\n",
    "            'Decostruzione Ancestrale': [\n",
    "                {\"Licenza Temporale (t)\": 3},\n",
    "                {\"Livello di Sviluppo Tecnologico (LTK)\": 2}\n",
    "            ],\n",
    "            'Decostruzione Interdimensionale Lovecraftiana': [\n",
    "                {\"Licenza Quantistica (Q)\": 7},\n",
    "                {\"Livello di Sviluppo Tecnologico (LTK)\": 6}\n",
    "            ]\n",
    "        },\n",
    "        \"Tecniche di Sferificazione\": {\n",
    "            'Sferificazione a Gravità Psionica Variabile': [\n",
    "                {\"Licenza Psionica (P)\": 4},\n",
    "                {\"Licenza Gravitazionale (G)\": 1},\n",
    "                {\"Livello di Sviluppo Tecnologico (LTK)\": 3}\n",
    "            ],\n",
    "            'Sferificazione Filamentare a Molecole Vibrazionali': [\n",
    "                {\"Licenza Magnetica (Mx)\": 1},\n",
    "                {\"Licenza Quantistica (Q)\": 4},\n",
    "                {\"Livello di Sviluppo Tecnologico (LTK)\": 2}\n",
    "            ],\n",
    "            'Sferificazione Cromatica Interdimensionale': [\n",
    "                {\"Licenza Quantistica (Q)\": 6},\n",
    "                {\"Licenza Luce (c)\": 3},\n",
    "                {\"Livello di Sviluppo Tecnologico (LTK)\": 3}\n",
    "            ],\n",
    "            'Sferificazione con Campi Magnetici Entropici': [\n",
    "                {\"Licenza Magnetica (Mx)\": 1},\n",
    "                {\"Livello di Sviluppo Tecnologico (LTK)\": 2}\n",
    "            ],\n",
    "            'Sferificazione tramite Matrici Biofotiche': [\n",
    "                {\"Licenza Magnetica (Mx)\": 1},\n",
    "                {\"Licenza Quantistica (Q)\": 3},\n",
    "                {\"Licenza Luce (c)\": 2},\n",
    "                {\"Livello di Sviluppo Tecnologico (LTK)\": 2}\n",
    "            ]\n",
    "        },\n",
    "        \"Tecniche di Taglio\": {\n",
    "            'Taglio Dimensionale a Lame Fotofiliche': [\n",
    "                {\"Licenza Quantistica (Q)\": 6},\n",
    "                {\"Licenza Luce (c)\": 3},\n",
    "                {\"Livello di Sviluppo Tecnologico (LTK)\": 4}\n",
    "            ],\n",
    "            'Taglio a Risonanza Sonica Rigenerativa': [],\n",
    "            'Affettamento a Pulsazioni Quantistiche': [\n",
    "                {\"Licenza Quantistica (Q)\": 4},\n",
    "                {\"Livello di Sviluppo Tecnologico (LTK)\": 3}\n",
    "            ],\n",
    "            'Taglio Sinaptico Biomimetico': [\n",
    "                {\"Licenza Psionica (P)\": 4},\n",
    "                {\"Livello di Sviluppo Tecnologico (LTK)\": 3}\n",
    "            ],\n",
    "            'Incisione Elettromagnetica Plasmica': [\n",
    "                {\"Licenza Antimateria (e+)\": 1},\n",
    "                {\"Licenza Magnetica (Mx)\": 1},\n",
    "                {\"Livello di Sviluppo Tecnologico (LTK)\": 2}\n",
    "            ]\n",
    "        }\n",
    "    }\n",
    "}"
   ]
  },
  {
   "cell_type": "raw",
   "id": "cf914a23-db55-4c8d-b399-af7ec2857595",
   "metadata": {
    "tags": []
   },
   "source": [
    "with open(\"/Users/vanzettom/Documents/mattia/personale/hackapizza/data_preprocessed/licenses_needed_by_tecnique_dict.json\", \"w\", encoding=\"utf-8\") as f:\n",
    "    json.dump(licenses_needed_by_tecnique_dict, f, ensure_ascii=False, indent=4)"
   ]
  },
  {
   "cell_type": "code",
   "execution_count": null,
   "id": "a7962da8-78ea-43b7-ac99-1279409911b3",
   "metadata": {
    "tags": []
   },
   "outputs": [],
   "source": [
    "with open(\"/Users/vanzettom/Documents/mattia/personale/hackapizza/data_preprocessed/licenses_needed_by_tecnique_dict.json\") as f:\n",
    "    licenses_needed_by_tecnique_dict = json.load(f)  "
   ]
  },
  {
   "cell_type": "code",
   "execution_count": null,
   "id": "892a9f7a-ef9c-4711-8184-3afa33d976ba",
   "metadata": {
    "scrolled": true,
    "tags": []
   },
   "outputs": [],
   "source": [
    "licenses_needed_by_tecnique_dict"
   ]
  },
  {
   "cell_type": "code",
   "execution_count": null,
   "id": "0af61a8d-cc3f-4d8b-bc90-e7ea7597d78f",
   "metadata": {},
   "outputs": [],
   "source": []
  },
  {
   "cell_type": "markdown",
   "id": "d52989d9-da7c-45ea-93c5-d9421b47931f",
   "metadata": {},
   "source": [
    "### Insert geo info"
   ]
  },
  {
   "cell_type": "code",
   "execution_count": null,
   "id": "724200c3-cb9c-46ab-a35c-13d9ed6fec02",
   "metadata": {
    "tags": []
   },
   "outputs": [],
   "source": [
    "distances = pd.read_csv('/Users/vanzettom/Documents/mattia/personale/hackapizza/Hackapizza Dataset/Misc/Distanze.csv')\n",
    "distances.shape"
   ]
  },
  {
   "cell_type": "code",
   "execution_count": null,
   "id": "11459597-953f-48e3-922e-67a8525bc253",
   "metadata": {
    "scrolled": true,
    "tags": []
   },
   "outputs": [],
   "source": [
    "location_dict"
   ]
  },
  {
   "cell_type": "code",
   "execution_count": null,
   "id": "fc48bef9-41d2-4931-a845-4a0c4dbd4daa",
   "metadata": {
    "tags": []
   },
   "outputs": [],
   "source": [
    "distances_dict = {restaurant: dict() for restaurant in all_pdf_chunks.keys()}\n",
    "\n",
    "for restaurant in distances_dict:\n",
    "    distances_dict[restaurant] = dict(zip(\n",
    "        [c for c in distances.columns if c != \"/\"],\n",
    "        [float(n) for n in distances.loc[distances['/'] == location_dict.get(restaurant), [c for c in distances.columns if c != \"/\"]].values[0]]\n",
    "    ))"
   ]
  },
  {
   "cell_type": "code",
   "execution_count": null,
   "id": "104e3d35-36f9-41ce-a1bb-56a1c03f3013",
   "metadata": {
    "scrolled": true,
    "tags": []
   },
   "outputs": [],
   "source": [
    "distances_dict"
   ]
  },
  {
   "cell_type": "code",
   "execution_count": null,
   "id": "518c24cf-b880-4daf-aaab-228813d75ddf",
   "metadata": {},
   "outputs": [],
   "source": []
  },
  {
   "cell_type": "markdown",
   "id": "e53c8bf4-1456-4d67-80cc-3c08bcdfd2fb",
   "metadata": {},
   "source": [
    "### Put all togheter in one single dictionary"
   ]
  },
  {
   "cell_type": "code",
   "execution_count": null,
   "id": "30c87648-ab4a-40ae-8178-ae4c1d0bf94c",
   "metadata": {
    "scrolled": true,
    "tags": []
   },
   "outputs": [],
   "source": [
    "map_correct_name = dict()\n",
    "\n",
    "regex = r\"[🌱🌈🪐]\"\n",
    "\n",
    "result = re.sub(regex, \"\", text).strip()\n",
    "\n",
    "for restaurant, map_dict in mapping_name_found.items():\n",
    "    map_dict = {re.sub(regex, \"\", k).strip(): re.sub(regex, \"\", v).strip() for k, v in map_dict.items()}\n",
    "    map_correct_name.update(dict(zip(map_dict.values(), map_dict.keys())))"
   ]
  },
  {
   "cell_type": "code",
   "execution_count": null,
   "id": "a175d0cb-85df-4b24-8826-9b297b8d87b0",
   "metadata": {
    "scrolled": true,
    "tags": []
   },
   "outputs": [],
   "source": [
    "plate_info_dictionary = dict()\n",
    "\n",
    "def estrai_licenze(dizionario_base, dizionario_completo):\n",
    "    licenze_risultato = []\n",
    "    \n",
    "    for categoria, sotto_categorie in dizionario_base.items():\n",
    "        if categoria in dizionario_completo:\n",
    "            for sotto_categoria, tecniche in sotto_categorie.items():\n",
    "                if sotto_categoria in dizionario_completo[categoria]:\n",
    "                    for tecnica in tecniche:\n",
    "                        if tecnica in dizionario_completo[categoria][sotto_categoria]:\n",
    "                            licenze = dizionario_completo[categoria][sotto_categoria][tecnica]\n",
    "                            for lic in licenze:\n",
    "                                licenze_risultato.append(lic)\n",
    "    \n",
    "    return licenze_risultato\n",
    "\n",
    "def dict_in_list(target_dict, dict_list, tolerance=2):\n",
    "    for d in dict_list:\n",
    "        for key_t, value_t in target_dict.items():\n",
    "            for key_d, value_d in d.items():\n",
    "                if Levenshtein.distance(key_t, key_d) < tolerance and value_t <= value_d:\n",
    "                    return True\n",
    "    return False\n",
    "\n",
    "def all_dicts_in_list(small_list, big_list, tolerance=2):\n",
    "    return all(dict_in_list(d, big_list, tolerance) for d in small_list)\n",
    "\n",
    "for restaurant, plate_tecnique_dict in tecnique_dict.items():\n",
    "    chef_non_in_regola = list()\n",
    "\n",
    "    for plate, tecnique_list in plate_tecnique_dict.items():\n",
    "        \n",
    "        plate_info_dictionary[plate] = dict()\n",
    "        plate_info_dictionary[plate][\"dati_ristorante\"] = dict()\n",
    "        plate_info_dictionary[plate][\"dati_ristorante\"][\"nome_ristorante\"] = restaurant\n",
    "        plate_info_dictionary[plate][\"dati_ristorante\"][\"chef\"] = dict()\n",
    "        plate_info_dictionary[plate][\"dati_ristorante\"][\"chef\"][\"nome\"] = chef_data_dict_clean[restaurant][\"chef_name\"]\n",
    "        plate_info_dictionary[plate][\"dati_ristorante\"][\"chef\"][\"lista_licenze\"] = eval(chef_data_dict_clean[restaurant][\"license_list\"])\n",
    "        plate_info_dictionary[plate][\"dati_ristorante\"][\"chef\"][\"lista_licenze\"] = [\n",
    "            {list(d.keys())[0]: float(list(d.values())[0])} for d in plate_info_dictionary[plate][\"dati_ristorante\"][\"chef\"][\"lista_licenze\"]\n",
    "        ]\n",
    "        plate_info_dictionary[plate][\"dati_ristorante\"][\"pianeta\"] = location_dict[restaurant]\n",
    "        plate_info_dictionary[plate][\"dati_ristorante\"][\"distanze_da_altri_pianeti\"] = distances_dict[restaurant]\n",
    "        \n",
    "        plate_info_dictionary[plate][\"tecniche_utilizzate\"] = tecnique_list\n",
    "        plate_info_dictionary[plate][\"tecniche_utilizzate_del_Sirius_Cosmo\"] = plate_tecnique_sc_dict[restaurant][plate]\n",
    "        \n",
    "        license_needed = estrai_licenze(plate_info_dictionary[plate][\"tecniche_utilizzate_del_Sirius_Cosmo\"], licenses_needed_by_tecnique_dict)\n",
    "        \n",
    "        plate_info_dictionary[plate][\"licenze_necessarie_per_la_preparazione\"] = license_needed\n",
    "        \n",
    "        if all_dicts_in_list(license_needed, plate_info_dictionary[plate][\"dati_ristorante\"][\"chef\"][\"lista_licenze\"], tolerance=2):\n",
    "            plate_info_dictionary[plate][\"dati_ristorante\"][\"chef\"][\"licenze_ok\"] = True\n",
    "        else:\n",
    "            plate_info_dictionary[plate][\"dati_ristorante\"][\"chef\"][\"licenze_ok\"] = False\n",
    "          \n",
    "        plate_info_dictionary[plate][\"ingredienti\"] = [\n",
    "            ing for ing in ingredient_dict[restaurant][plate]\n",
    "            if not any([err in ing for err in ['decostruzione', 'sferificazione','grigliatura','marinatura', 'fermentazione', 'amalgamazione', 'affumicatura', 'cottura', 'congelamento', 'tessitura']])\n",
    "        ]\n",
    "        \n",
    "        text_chunk = all_pdf_chunks[restaurant][plate]#[mapping_name_found[restaurant][plate]]\n",
    "        \n",
    "            \n",
    "        if \"Questo piatto può essere mangiato dai membri dell'Ordine della Galassia di Andromeda.\".lower() in text_chunk:\n",
    "            plate_info_dictionary[plate]['mangiabile_da_ordine_galassia_andromeda'] = True\n",
    "        else:\n",
    "            plate_info_dictionary[plate]['mangiabile_da_ordine_galassia_andromeda'] = False\n",
    "        \n",
    "        if \"Questo piatto può essere mangiato dai membri dell'Ordine dei Naturalisti.\".lower() in text_chunk:\n",
    "            plate_info_dictionary[plate]['mangiabile_da_ordine_naturisti'] = True\n",
    "        else:\n",
    "            plate_info_dictionary[plate]['mangiabile_da_ordine_naturisti'] = False\n",
    "        \n",
    "        if \"questo piatto può essere mangiato dai membri dell'ordine degli armonisti\".lower() in text_chunk:\n",
    "            plate_info_dictionary[plate]['mangiabile_da_ordine_armonisti'] = True\n",
    "\n",
    "        else:\n",
    "            plate_info_dictionary[plate]['mangiabile_da_ordine_armonisti'] = False\n",
    "\n",
    "        \n",
    "plate_info_dictionary = {map_correct_name.get(plate): d for plate, d in plate_info_dictionary.items()}"
   ]
  },
  {
   "cell_type": "code",
   "execution_count": null,
   "id": "4afb4499-7c66-4230-8d6c-2deb1cce42e7",
   "metadata": {
    "tags": []
   },
   "outputs": [],
   "source": [
    "with open(\"/Users/vanzettom/Documents/mattia/personale/hackapizza/data_preprocessed/plate_info_dictionary.json\", \"w\", encoding=\"utf-8\") as f:\n",
    "    json.dump(plate_info_dictionary, f, ensure_ascii=False, indent=4)"
   ]
  },
  {
   "cell_type": "markdown",
   "id": "1bc1777e-4404-4e56-98ab-1d8c5b0da6be",
   "metadata": {},
   "source": [
    "### Preparation of text chunks that could be useful to understand if a plate falls within the user's request"
   ]
  },
  {
   "cell_type": "code",
   "execution_count": null,
   "id": "f0fc3952-60b1-4746-aaac-a12fe3f0251d",
   "metadata": {
    "tags": []
   },
   "outputs": [],
   "source": [
    "map_correct_name['quadrifonia cosmica: sinfonia di sapori e dimensioni']"
   ]
  },
  {
   "cell_type": "code",
   "execution_count": null,
   "id": "c13cbafc-3950-4b3a-8c38-85952fba72b4",
   "metadata": {
    "tags": []
   },
   "outputs": [],
   "source": [
    "plate_chunks_rag = dict()\n",
    "\n",
    "for restaurant, dict_paragraphs in all_pdf_chunks.items():\n",
    "    for plate, chunk in dict_paragraphs.items():\n",
    "        if plate != 'intro':\n",
    "            plate_chunks_rag[map_correct_name[plate]] = f\"\"\"\n",
    "Il piatto è offerto dal Ristorante {restaurant}.\n",
    "\n",
    "Il ristorante si trova sul pianeta: {location_dict[restaurant]}.\n",
    "\n",
    "Descrizione piatto:\\n{chunk}\n",
    "\n",
    "Descrizione dello chef:\\n{dict_paragraphs['intro']}\n",
    "\"\"\""
   ]
  },
  {
   "cell_type": "code",
   "execution_count": null,
   "id": "9b2b60f9-2e88-41de-8f23-362b0122ac18",
   "metadata": {
    "tags": []
   },
   "outputs": [],
   "source": [
    "with open(\"/Users/vanzettom/Documents/mattia/personale/hackapizza/data_preprocessed/plate_chunks_rag.json\", \"w\", encoding=\"utf-8\") as f:\n",
    "    json.dump(plate_chunks_rag, f, ensure_ascii=False, indent=4)"
   ]
  },
  {
   "cell_type": "code",
   "execution_count": null,
   "id": "d758757e-d125-479d-88da-a605a852398c",
   "metadata": {
    "tags": []
   },
   "outputs": [],
   "source": [
    "file_path = '/Users/vanzettom/Documents/mattia/personale/hackapizza/Hackapizza Dataset/Codice Galattico/Codice Galattico.docx'\n",
    "\n",
    "doc = fitz.open(file_path)\n",
    "codice_galattico = \"\\n\".join([page.get_text(\"text\") for page in doc])\n",
    "doc.close()"
   ]
  },
  {
   "cell_type": "code",
   "execution_count": null,
   "id": "17eb02f3-c4ad-4f69-bcfa-a6b8425092b0",
   "metadata": {
    "scrolled": true,
    "tags": []
   },
   "outputs": [],
   "source": [
    "print(codice_galattico)"
   ]
  },
  {
   "cell_type": "code",
   "execution_count": null,
   "id": "02f0a58b-6ae3-4b7a-8531-e85e97646b5b",
   "metadata": {
    "tags": []
   },
   "outputs": [],
   "source": [
    "with open(\"/Users/vanzettom/Documents/mattia/personale/hackapizza/data_preprocessed/codice_galattico.json\", \"w\", encoding=\"utf-8\") as f:\n",
    "    json.dump(codice_galattico, f, ensure_ascii=False, indent=4)"
   ]
  },
  {
   "cell_type": "code",
   "execution_count": null,
   "id": "cb1d2e3f-e90c-4a94-83e0-1de498c2c757",
   "metadata": {},
   "outputs": [],
   "source": [
    "file_path = '/Users/vanzettom/Documents/mattia/personale/hackapizza/Hackapizza Dataset/Misc/Manuale di Cucina.pdf'\n",
    "\n",
    "doc = fitz.open(file_path)\n",
    "manuale_sirius_cosmo = \"\\n\".join([page.get_text(\"text\") for page in doc])\n",
    "doc.close()"
   ]
  },
  {
   "cell_type": "code",
   "execution_count": null,
   "id": "547f88d3-595f-4af5-96ed-455fa25c0bb3",
   "metadata": {
    "scrolled": true,
    "tags": []
   },
   "outputs": [],
   "source": [
    "print(manuale_sirius_cosmo)"
   ]
  },
  {
   "cell_type": "code",
   "execution_count": null,
   "id": "b4808eeb-caae-4134-b73c-9cbbe2adf0a5",
   "metadata": {
    "tags": []
   },
   "outputs": [],
   "source": [
    "with open(\"/Users/vanzettom/Documents/mattia/personale/hackapizza/data_preprocessed/manuale_sirius_cosmo.json\", \"w\", encoding=\"utf-8\") as f:\n",
    "    json.dump(manuale_sirius_cosmo, f, ensure_ascii=False, indent=4)"
   ]
  },
  {
   "cell_type": "code",
   "execution_count": null,
   "id": "c18fec78-91ab-45c0-87ea-e960cab859da",
   "metadata": {},
   "outputs": [],
   "source": [
    "distanze = \"\"\"\n",
    "\n",
    "### DISTANZE TRA PIANETI:\n",
    "\n",
    "|            | Tatooine | Asgard | Namecc | Arrakis | Krypton | Pandora | Cybertron | Ego | Montressosr | Klyntar |\n",
    "|------------|---------|--------|--------|---------|---------|---------|-----------|-----|-------------|---------|\n",
    "| **Tatooine**    | 0       | 695    | 641    | 109     | 661     | 1130    | 344       | 835 | 731         | 530     |\n",
    "| **Asgard**      | 695     | 0      | 550    | 781     | 188     | 473     | 493       | 156 | 240         | 479     |\n",
    "| **Namecc**      | 641     | 550    | 0      | 651     | 367     | 987     | 728       | 688 | 767         | 845     |\n",
    "| **Arrakis**     | 109     | 781    | 651    | 0       | 727     | 1227    | 454       | 926 | 834         | 640     |\n",
    "| **Krypton**     | 661     | 188    | 367    | 727     | 0       | 626     | 557       | 321 | 422         | 599     |\n",
    "| **Pandora**     | 1130    | 473    | 987    | 1227    | 626     | 0       | 847       | 317 | 413         | 731     |\n",
    "| **Cybertron**   | 344     | 493    | 728    | 454     | 557     | 847     | 0         | 594 | 434         | 186     |\n",
    "| **Ego**         | 835     | 156    | 688    | 926     | 321     | 317     | 594       | 0   | 215         | 532     |\n",
    "| **Montressosr** | 731     | 240    | 767    | 834     | 422     | 413     | 434       | 215 | 0           | 331     |\n",
    "| **Klyntar**     | 530     | 479    | 845    | 640     | 599     | 731     | 186       | 532 | 331         | 0       |\n",
    "\"\"\""
   ]
  },
  {
   "cell_type": "code",
   "execution_count": null,
   "id": "267eb7f6-f93a-4c97-9e5d-bfe6cc6def7c",
   "metadata": {},
   "outputs": [],
   "source": [
    "with open(\"/Users/vanzettom/Documents/mattia/personale/hackapizza/data_preprocessed/distanze.json\", \"w\", encoding=\"utf-8\") as f:\n",
    "    json.dump(distanze, f, ensure_ascii=False, indent=4)"
   ]
  },
  {
   "cell_type": "code",
   "execution_count": null,
   "id": "8ddb3a87-60c2-43ad-ab5f-5e829a3dda9b",
   "metadata": {},
   "outputs": [],
   "source": []
  },
  {
   "cell_type": "code",
   "execution_count": null,
   "id": "70daa77c-49cd-440d-a2f7-cc27e2d7bd0a",
   "metadata": {},
   "outputs": [],
   "source": []
  },
  {
   "cell_type": "code",
   "execution_count": null,
   "id": "e5f6b609-6203-4252-8c04-6de40336d700",
   "metadata": {},
   "outputs": [],
   "source": []
  }
 ],
 "metadata": {
  "kernelspec": {
   "display_name": "nlp_base",
   "language": "python",
   "name": "nlp_base"
  },
  "language_info": {
   "codemirror_mode": {
    "name": "ipython",
    "version": 3
   },
   "file_extension": ".py",
   "mimetype": "text/x-python",
   "name": "python",
   "nbconvert_exporter": "python",
   "pygments_lexer": "ipython3",
   "version": "3.11.9"
  }
 },
 "nbformat": 4,
 "nbformat_minor": 5
}
